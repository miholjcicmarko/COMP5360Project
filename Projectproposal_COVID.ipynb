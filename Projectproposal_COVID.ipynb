{
 "cells": [
  {
   "cell_type": "markdown",
   "metadata": {},
   "source": [
    "# Basic Info:\n",
    "The Project Title is: A Brief History of Crime\n",
    "Group member 1 \n",
    "name: Austin Hickey\n",
    "e-mail: U1041943@utah.edu\n",
    "UID: U1041943\n",
    "\n",
    "Group member 2\n",
    "name: Spencer Sawas\n",
    "e-mail: spencer.sawas@utah.edu\n",
    "UID: U1065866\n",
    "\n",
    "Group member 3\n",
    "name: Marko Miholjcic\n",
    "e-mail: u0984549@utah.edu\n",
    "UID: u0984549"
   ]
  },
  {
   "cell_type": "markdown",
   "metadata": {},
   "source": [
    "# Background and Motivation\n"
   ]
  },
  {
   "cell_type": "markdown",
   "metadata": {},
   "source": []
  },
  {
   "cell_type": "markdown",
   "metadata": {},
   "source": [
    "# Project Objectives"
   ]
  },
  {
   "cell_type": "markdown",
   "metadata": {},
   "source": []
  },
  {
   "cell_type": "markdown",
   "metadata": {},
   "source": [
    "# Data\n"
   ]
  },
  {
   "cell_type": "markdown",
   "metadata": {},
   "source": [
    "We will be using several sources of data in order to most accurately represent the COVID-19 outbreaks and information regarding each country that we are trying to analyze.\n",
    "\n",
    "For the COVID-19 data we will use multiple APIs to collect the number of cases and deaths over time for multiple countries as listed above: \n",
    "https://github.com/CSSEGISandData/COVID-19 \n",
    "https://coronavirus-monitor.p.rapidapi.com/coronavirus/cases_by_particular_country.php\n",
    "\n",
    "For our regression model to predict the number of deaths from COVID-19 that a particular country will experience we will webscraping data for the WHO Healthcare index - https://www.who.int/healthinfo/paper30.pdf (pdf example)\n",
    "As well as a particular countries population and population densities - http://worldpopulationreview.com/\n",
    "\n",
    "Lastly, we will be trying to analyze how the severity of outbreaks will vary between the 50 states in the US by considering additional variables such as state specific populations and the size of the existing healthcare systems (meaning exluding pop-up hospitals created to help combat the virus). \n",
    "https://www.kff.org/other/state-indicator/beds-by-ownership/?currentTimeframe=0&selectedDistributions=statelocal-government&sortModel=%7B%22colId%22:%22Location%22,%22sort%22:%22asc%22%7D"
   ]
  },
  {
   "cell_type": "markdown",
   "metadata": {},
   "source": [
    "# Ethical considerations\n"
   ]
  },
  {
   "cell_type": "markdown",
   "metadata": {},
   "source": []
  },
  {
   "cell_type": "markdown",
   "metadata": {},
   "source": [
    "# Data Processing"
   ]
  },
  {
   "cell_type": "markdown",
   "metadata": {},
   "source": []
  },
  {
   "cell_type": "markdown",
   "metadata": {},
   "source": [
    "# Exploratory Analysis"
   ]
  },
  {
   "cell_type": "markdown",
   "metadata": {},
   "source": []
  },
  {
   "cell_type": "markdown",
   "metadata": {},
   "source": [
    "# Analysis Methodology"
   ]
  },
  {
   "cell_type": "markdown",
   "metadata": {},
   "source": []
  },
  {
   "cell_type": "markdown",
   "metadata": {},
   "source": [
    "# Project Schedule\n"
   ]
  },
  {
   "cell_type": "markdown",
   "metadata": {},
   "source": [
    "Week 1:\n",
    "    -the data must be imported into the jupyter notebook.\n",
    "    -Begin cleaning the data \n",
    "    -Participate in peer review\n",
    "\n",
    "Week 2:\n",
    "    -Spring Break\n",
    "   \n",
    "\n",
    "Week 3:\n",
    "    -Finish cleaning the data\n",
    "    -Begin exploring the data\n",
    "\n",
    "\n",
    "Week 4:\n",
    "    -Finish Exploring the Data\n",
    "    -Begin Analyzing the Data\n",
    "    -Determine the method of creating the video\n",
    "\n",
    "Week 5:\n",
    "    -Complete the analysis of the Data\n",
    "    -Begin creating the video\n",
    "\n",
    "Week 6:\n",
    "    -Finalize the jupyter notebook\n",
    "    -Finish the video \n",
    "\n",
    "Week 7:\n",
    "    -Practice the presentation\n",
    "\n",
    "Week 8:\n",
    "    -Present the presentation"
   ]
  }
 ],
 "metadata": {
  "kernelspec": {
   "display_name": "Python 3",
   "language": "python",
   "name": "python3"
  },
  "language_info": {
   "codemirror_mode": {
    "name": "ipython",
    "version": 3
   },
   "file_extension": ".py",
   "mimetype": "text/x-python",
   "name": "python",
   "nbconvert_exporter": "python",
   "pygments_lexer": "ipython3",
   "version": "3.7.4"
  }
 },
 "nbformat": 4,
 "nbformat_minor": 2
}
