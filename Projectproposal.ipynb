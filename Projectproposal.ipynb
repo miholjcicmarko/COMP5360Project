{
 "cells": [
  {
   "cell_type": "markdown",
   "metadata": {},
   "source": [
    "# Basic Info:\n",
    "The Project Title is: A Brief History of Crime\n",
    "Group member 1 \n",
    "name: Austin Hickey\n",
    "e-mail: U1041943@utah.edu\n",
    "UID: U1041943\n",
    "\n",
    "Group member 2\n",
    "name: Spencer Sawas\n",
    "e-mail: spencer.sawas@utah.edu\n",
    "UID: U1065866\n",
    "\n",
    "Group member 3\n",
    "name: Marko Miholjcic\n",
    "e-mail: u0984549@utah.edu\n",
    "UID: u0984549"
   ]
  },
  {
   "cell_type": "markdown",
   "metadata": {},
   "source": [
    "# Background and Motivation\n",
    "Across the nation, the police strive to make the world a safer place for civilians. In Chicago, for example, 310 shootings occurred in 2019. A majority of the shootings were gang related. Police in Chicago are trained specifically for handling gang violence. Similar training programs exist for other cities across the United states. The strategies for combating crime and ensuring public safety have extended beyond responding to phone calls for service. Law enforcement agencies are collecting data on crimes, and crime mapping in order to increase crime prevention, responsivity, and intervention. The motivation for our project is to find ways to improve the police academies, and learn more information about if and how gun ownership, and crime influence political affiliation and if and how gun ownership affects crime. \n"
   ]
  },
  {
   "cell_type": "markdown",
   "metadata": {},
   "source": [
    "# Project Objectives\n",
    "\n",
    "Using crime data from the \"FBI Crime Data Explorer API\" and the Department of Justice \"National Crime Victimization Survey API\" we want to assess the most common types of crime in cities across America and identify specialized types of training that might be best suited for city-specific police academies. To go a step further, we intend to use the crime data and, using the \"ATF Trace Data Report API\", identify if there is any relationship between gun ownership and specific types of crime observed. \n",
    "\n",
    "It must be noted though, street gangs often use ghost guns or \"private sales weapons\" which are unregistered and not reported to the ATF. Therefore, data from the ATF API may not yield the most precise results.  \n",
    "\n",
    "Finally, we plan to use Google's \"Civic Information API\" to identify relationships between a) gun ownership vs political affiliation, b) political affiliation vs most common types of crime, and c) assess whether there are higher rates of gun violence per gun owner-density for those living in \"red\" or \"blue\" counties.\n",
    "\n",
    "The benefits of this project is to learn about crime, and gun ownership across the nation. It will be interesting to see if these two elements have a relationship with political affiliations.  "
   ]
  },
  {
   "cell_type": "markdown",
   "metadata": {},
   "source": [
    "# Data\n"
   ]
  },
  {
   "cell_type": "markdown",
   "metadata": {},
   "source": [
    "Data will be collected from Developer Resources section on the United States Department of Justice, google's civic information api, and the FBI crime data explorer website. The url for these websites are: \n",
    "\n",
    "https://www.justice.gov/developer , https://crime-data-explorer.fr.cloud.gov/api, https://developers.google.com/civic-information/docs/v2/divisions#resource\n",
    "\n",
    "\n",
    "We plan on collecting data by scraping data from the APIs present on the websites. These APIs include:\n",
    "\"ATF Trace Data Report API\"\n",
    "\"FBI Crime Data Explorer API\"\n",
    "\"National Crime Victimization Survey API\"\n",
    "\"Civic Information API\""
   ]
  },
  {
   "cell_type": "markdown",
   "metadata": {},
   "source": [
    "# Ethical considerations\n",
    "\n",
    "Some problems when working with crime data is that due to misreported information by police, (such as made up/exaggerated ages) it can result in the data misrepresenting the true story of the crime in a given area. Similarly, by analyzing data relating to crime and reporting locations of high volume, you run the risk of the police or other authority figures using it to oppress or steryotype individuals from specific regions with comparitively high crime rates. This has the potential of increased police brutality or police death, and could lead to decreased attention from the city which could cause more unrest in the area.\n",
    "\n",
    "This data is not meant to conclude whether one political party has any prowess over the other, and the reporting in this must be unbiased so that no political agendas influence the outcome of the data analysis. Honest reporting will need to take place to ensure there is no conflict of interest.\n",
    "\n",
    "Political candidates may be incentivised to use this data in pushing a political agenda, regardless of political party. Local political officials may also be motivated to make large claims based on criminal data maps, gun-ownership data, a relationship of the two, or create an argument based on current political leadership and crime. Local elections, or large scale political campaigns can use crime data relationships made with gun-ownership as evidence to push for -or against- increased gun control legislation. Additionally, local government can use this data analysis in making a budget for local police departments. Funding for police departments may be hindered, or assisted depending how the data is interpreted by local governments. This can potentially harm an area in need of increased policing. "
   ]
  },
  {
   "cell_type": "markdown",
   "metadata": {},
   "source": [
    "# Data Processing\n",
    "\n",
    "Ideally the APIs we will be accessing will provide the data in a well organized fashion, so data cleanup will be basic- such as removing white space, making all numbers integers, cleaning up any values that are NaN (by either removing the row or replacing with a local mean value of the category).\n",
    "\n",
    "We intend to derive the frequency and types of crimes associated with locations across America. We will derive geo political divisions and locally elected officials political affiliation for identifying the local political-landscape. We will use longitude and latitude data from the ATF api to identify gun-owner density and highlight a political relationship between gun owner density and crime occurances. Using .describe we will identify outliers in the data and determine how outliers impact the data. The mean values of specific categories will be used to fill in Nan values in a dataframe. Pandas will be used to organize a dataframe. Seaborn will be used to visualize statistical relationships such as the cluster analysis, scatter plot matrices, and a geospatial heatmap will be used to visualize correlation coefficients calculated between each of the categories identified. Using scikit- extratreesclassifier, we will identify the most important variables associated with types of crime. "
   ]
  },
  {
   "cell_type": "markdown",
   "metadata": {},
   "source": [
    "# Exploratory Analysis\n",
    "\n",
    "\n",
    "We will map the most common types of crime to Cities across America by creating a Geospatial plot. \n",
    "We will create scatter plots that display the different types of crime for different cities.\n",
    "We provide correlation matrices for gun ownership and specific types of crime across America. \n",
    "In addition, correlation matrices will be made relating gun ownership to political affiliation, political affiliation to common types of crime, and gun violence per gun owner density to those living in democrat or republican leaning counties. \n",
    "We will also create scatter plot matrices to visualize all of these relationships. \n",
    "We will perform classification on the different cities in order to determine which police strategy is the best for the area. \n",
    "We will perform a cluster analysis to group together the different cities based on types of crime, gun ownership, and political affiliation."
   ]
  },
  {
   "cell_type": "markdown",
   "metadata": {},
   "source": [
    "# Analysis Methodology\n",
    "\n",
    "We are planning to look at the descriptive statistics of each variable in each city, as well as each the descriptive statistics of variables across all cities. We plan to look at correlation coefficients to determine relationships between the variables in each city. We will develop a classification algorithm to determine the appropriate police strategy based on the characteristics of a given area. We will cluster together the different cities based on types of crime, gun ownership, and political affiliation. We will try to determine which types of crime are most importnat in determining the police strategy in each area. "
   ]
  },
  {
   "cell_type": "markdown",
   "metadata": {},
   "source": [
    "# Project Schedule\n"
   ]
  },
  {
   "cell_type": "markdown",
   "metadata": {},
   "source": [
    "Week 1:\n",
    "    -the data must be imported into the jupyter notebook.\n",
    "    -Begin cleaning the data \n",
    "    -Participate in peer review\n",
    "\n",
    "Week 2:\n",
    "    -Spring Break\n",
    "   \n",
    "\n",
    "Week 3:\n",
    "    -Finish cleaning the data\n",
    "    -Begin exploring the data\n",
    "\n",
    "\n",
    "Week 4:\n",
    "    -Finish Exploring the Data\n",
    "    -Begin Analyzing the Data\n",
    "    -Determine the method of creating the video\n",
    "\n",
    "Week 5:\n",
    "    -Complete the analysis of the Data\n",
    "    -Begin creating the video\n",
    "\n",
    "Week 6:\n",
    "    -Finalize the jupyter notebook\n",
    "    -Finish the video \n",
    "\n",
    "Week 7:\n",
    "    -Practice the presentation\n",
    "\n",
    "Week 8:\n",
    "    -Present the presentation"
   ]
  }
 ],
 "metadata": {
  "kernelspec": {
   "display_name": "Python 3",
   "language": "python",
   "name": "python3"
  },
  "language_info": {
   "codemirror_mode": {
    "name": "ipython",
    "version": 3
   },
   "file_extension": ".py",
   "mimetype": "text/x-python",
   "name": "python",
   "nbconvert_exporter": "python",
   "pygments_lexer": "ipython3",
   "version": "3.7.4"
  }
 },
 "nbformat": 4,
 "nbformat_minor": 2
}
