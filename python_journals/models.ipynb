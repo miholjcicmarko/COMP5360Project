{
 "cells": [
  {
   "cell_type": "code",
   "execution_count": 1,
   "metadata": {},
   "outputs": [],
   "source": [
    "import pandas as pd\n",
    "\n",
    "peakinf = []"
   ]
  },
  {
   "cell_type": "code",
   "execution_count": null,
   "metadata": {},
   "outputs": [],
   "source": [
    "df = pd.read_csv('/Users/spenc/OneDrive/Documents/University_of_Utah/2019-2020/DataScience/COMP5360Project/project_files/csv_files/CLEANCDRdata.csv')"
   ]
  },
  {
   "cell_type": "code",
   "execution_count": 2,
   "metadata": {},
   "outputs": [],
   "source": [
    "df = pd.read_csv(r'C:\\Users\\austi\\Documents\\GitHub\\COMP5360Project\\project_files\\csv_files\\CLEANCDRdata.csv')"
   ]
  },
  {
   "cell_type": "code",
   "execution_count": 3,
   "metadata": {},
   "outputs": [
    {
     "ename": "FileNotFoundError",
     "evalue": "[Errno 2] File b'/Users/markomiholjcic/Documents/GitHub/COMP5360Project/project_files/csv_files/CLEANCDRdata/csv' does not exist: b'/Users/markomiholjcic/Documents/GitHub/COMP5360Project/project_files/csv_files/CLEANCDRdata/csv'",
     "output_type": "error",
     "traceback": [
      "\u001b[0;31m---------------------------------------------------------------------------\u001b[0m",
      "\u001b[0;31mFileNotFoundError\u001b[0m                         Traceback (most recent call last)",
      "\u001b[0;32m<ipython-input-3-a72d73e26d2c>\u001b[0m in \u001b[0;36m<module>\u001b[0;34m\u001b[0m\n\u001b[0;32m----> 1\u001b[0;31m \u001b[0mdf\u001b[0m \u001b[0;34m=\u001b[0m \u001b[0mpd\u001b[0m\u001b[0;34m.\u001b[0m\u001b[0mread_csv\u001b[0m\u001b[0;34m(\u001b[0m\u001b[0;34m'/Users/markomiholjcic/Documents/GitHub/COMP5360Project/project_files/csv_files/CLEANCDRdata/csv'\u001b[0m\u001b[0;34m)\u001b[0m\u001b[0;34m\u001b[0m\u001b[0;34m\u001b[0m\u001b[0m\n\u001b[0m",
      "\u001b[0;32m//anaconda3/lib/python3.7/site-packages/pandas/io/parsers.py\u001b[0m in \u001b[0;36mparser_f\u001b[0;34m(filepath_or_buffer, sep, delimiter, header, names, index_col, usecols, squeeze, prefix, mangle_dupe_cols, dtype, engine, converters, true_values, false_values, skipinitialspace, skiprows, skipfooter, nrows, na_values, keep_default_na, na_filter, verbose, skip_blank_lines, parse_dates, infer_datetime_format, keep_date_col, date_parser, dayfirst, iterator, chunksize, compression, thousands, decimal, lineterminator, quotechar, quoting, doublequote, escapechar, comment, encoding, dialect, tupleize_cols, error_bad_lines, warn_bad_lines, delim_whitespace, low_memory, memory_map, float_precision)\u001b[0m\n\u001b[1;32m    700\u001b[0m                     skip_blank_lines=skip_blank_lines)\n\u001b[1;32m    701\u001b[0m \u001b[0;34m\u001b[0m\u001b[0m\n\u001b[0;32m--> 702\u001b[0;31m         \u001b[0;32mreturn\u001b[0m \u001b[0m_read\u001b[0m\u001b[0;34m(\u001b[0m\u001b[0mfilepath_or_buffer\u001b[0m\u001b[0;34m,\u001b[0m \u001b[0mkwds\u001b[0m\u001b[0;34m)\u001b[0m\u001b[0;34m\u001b[0m\u001b[0;34m\u001b[0m\u001b[0m\n\u001b[0m\u001b[1;32m    703\u001b[0m \u001b[0;34m\u001b[0m\u001b[0m\n\u001b[1;32m    704\u001b[0m     \u001b[0mparser_f\u001b[0m\u001b[0;34m.\u001b[0m\u001b[0m__name__\u001b[0m \u001b[0;34m=\u001b[0m \u001b[0mname\u001b[0m\u001b[0;34m\u001b[0m\u001b[0;34m\u001b[0m\u001b[0m\n",
      "\u001b[0;32m//anaconda3/lib/python3.7/site-packages/pandas/io/parsers.py\u001b[0m in \u001b[0;36m_read\u001b[0;34m(filepath_or_buffer, kwds)\u001b[0m\n\u001b[1;32m    427\u001b[0m \u001b[0;34m\u001b[0m\u001b[0m\n\u001b[1;32m    428\u001b[0m     \u001b[0;31m# Create the parser.\u001b[0m\u001b[0;34m\u001b[0m\u001b[0;34m\u001b[0m\u001b[0;34m\u001b[0m\u001b[0m\n\u001b[0;32m--> 429\u001b[0;31m     \u001b[0mparser\u001b[0m \u001b[0;34m=\u001b[0m \u001b[0mTextFileReader\u001b[0m\u001b[0;34m(\u001b[0m\u001b[0mfilepath_or_buffer\u001b[0m\u001b[0;34m,\u001b[0m \u001b[0;34m**\u001b[0m\u001b[0mkwds\u001b[0m\u001b[0;34m)\u001b[0m\u001b[0;34m\u001b[0m\u001b[0;34m\u001b[0m\u001b[0m\n\u001b[0m\u001b[1;32m    430\u001b[0m \u001b[0;34m\u001b[0m\u001b[0m\n\u001b[1;32m    431\u001b[0m     \u001b[0;32mif\u001b[0m \u001b[0mchunksize\u001b[0m \u001b[0;32mor\u001b[0m \u001b[0miterator\u001b[0m\u001b[0;34m:\u001b[0m\u001b[0;34m\u001b[0m\u001b[0;34m\u001b[0m\u001b[0m\n",
      "\u001b[0;32m//anaconda3/lib/python3.7/site-packages/pandas/io/parsers.py\u001b[0m in \u001b[0;36m__init__\u001b[0;34m(self, f, engine, **kwds)\u001b[0m\n\u001b[1;32m    893\u001b[0m             \u001b[0mself\u001b[0m\u001b[0;34m.\u001b[0m\u001b[0moptions\u001b[0m\u001b[0;34m[\u001b[0m\u001b[0;34m'has_index_names'\u001b[0m\u001b[0;34m]\u001b[0m \u001b[0;34m=\u001b[0m \u001b[0mkwds\u001b[0m\u001b[0;34m[\u001b[0m\u001b[0;34m'has_index_names'\u001b[0m\u001b[0;34m]\u001b[0m\u001b[0;34m\u001b[0m\u001b[0;34m\u001b[0m\u001b[0m\n\u001b[1;32m    894\u001b[0m \u001b[0;34m\u001b[0m\u001b[0m\n\u001b[0;32m--> 895\u001b[0;31m         \u001b[0mself\u001b[0m\u001b[0;34m.\u001b[0m\u001b[0m_make_engine\u001b[0m\u001b[0;34m(\u001b[0m\u001b[0mself\u001b[0m\u001b[0;34m.\u001b[0m\u001b[0mengine\u001b[0m\u001b[0;34m)\u001b[0m\u001b[0;34m\u001b[0m\u001b[0;34m\u001b[0m\u001b[0m\n\u001b[0m\u001b[1;32m    896\u001b[0m \u001b[0;34m\u001b[0m\u001b[0m\n\u001b[1;32m    897\u001b[0m     \u001b[0;32mdef\u001b[0m \u001b[0mclose\u001b[0m\u001b[0;34m(\u001b[0m\u001b[0mself\u001b[0m\u001b[0;34m)\u001b[0m\u001b[0;34m:\u001b[0m\u001b[0;34m\u001b[0m\u001b[0;34m\u001b[0m\u001b[0m\n",
      "\u001b[0;32m//anaconda3/lib/python3.7/site-packages/pandas/io/parsers.py\u001b[0m in \u001b[0;36m_make_engine\u001b[0;34m(self, engine)\u001b[0m\n\u001b[1;32m   1120\u001b[0m     \u001b[0;32mdef\u001b[0m \u001b[0m_make_engine\u001b[0m\u001b[0;34m(\u001b[0m\u001b[0mself\u001b[0m\u001b[0;34m,\u001b[0m \u001b[0mengine\u001b[0m\u001b[0;34m=\u001b[0m\u001b[0;34m'c'\u001b[0m\u001b[0;34m)\u001b[0m\u001b[0;34m:\u001b[0m\u001b[0;34m\u001b[0m\u001b[0;34m\u001b[0m\u001b[0m\n\u001b[1;32m   1121\u001b[0m         \u001b[0;32mif\u001b[0m \u001b[0mengine\u001b[0m \u001b[0;34m==\u001b[0m \u001b[0;34m'c'\u001b[0m\u001b[0;34m:\u001b[0m\u001b[0;34m\u001b[0m\u001b[0;34m\u001b[0m\u001b[0m\n\u001b[0;32m-> 1122\u001b[0;31m             \u001b[0mself\u001b[0m\u001b[0;34m.\u001b[0m\u001b[0m_engine\u001b[0m \u001b[0;34m=\u001b[0m \u001b[0mCParserWrapper\u001b[0m\u001b[0;34m(\u001b[0m\u001b[0mself\u001b[0m\u001b[0;34m.\u001b[0m\u001b[0mf\u001b[0m\u001b[0;34m,\u001b[0m \u001b[0;34m**\u001b[0m\u001b[0mself\u001b[0m\u001b[0;34m.\u001b[0m\u001b[0moptions\u001b[0m\u001b[0;34m)\u001b[0m\u001b[0;34m\u001b[0m\u001b[0;34m\u001b[0m\u001b[0m\n\u001b[0m\u001b[1;32m   1123\u001b[0m         \u001b[0;32melse\u001b[0m\u001b[0;34m:\u001b[0m\u001b[0;34m\u001b[0m\u001b[0;34m\u001b[0m\u001b[0m\n\u001b[1;32m   1124\u001b[0m             \u001b[0;32mif\u001b[0m \u001b[0mengine\u001b[0m \u001b[0;34m==\u001b[0m \u001b[0;34m'python'\u001b[0m\u001b[0;34m:\u001b[0m\u001b[0;34m\u001b[0m\u001b[0;34m\u001b[0m\u001b[0m\n",
      "\u001b[0;32m//anaconda3/lib/python3.7/site-packages/pandas/io/parsers.py\u001b[0m in \u001b[0;36m__init__\u001b[0;34m(self, src, **kwds)\u001b[0m\n\u001b[1;32m   1851\u001b[0m         \u001b[0mkwds\u001b[0m\u001b[0;34m[\u001b[0m\u001b[0;34m'usecols'\u001b[0m\u001b[0;34m]\u001b[0m \u001b[0;34m=\u001b[0m \u001b[0mself\u001b[0m\u001b[0;34m.\u001b[0m\u001b[0musecols\u001b[0m\u001b[0;34m\u001b[0m\u001b[0;34m\u001b[0m\u001b[0m\n\u001b[1;32m   1852\u001b[0m \u001b[0;34m\u001b[0m\u001b[0m\n\u001b[0;32m-> 1853\u001b[0;31m         \u001b[0mself\u001b[0m\u001b[0;34m.\u001b[0m\u001b[0m_reader\u001b[0m \u001b[0;34m=\u001b[0m \u001b[0mparsers\u001b[0m\u001b[0;34m.\u001b[0m\u001b[0mTextReader\u001b[0m\u001b[0;34m(\u001b[0m\u001b[0msrc\u001b[0m\u001b[0;34m,\u001b[0m \u001b[0;34m**\u001b[0m\u001b[0mkwds\u001b[0m\u001b[0;34m)\u001b[0m\u001b[0;34m\u001b[0m\u001b[0;34m\u001b[0m\u001b[0m\n\u001b[0m\u001b[1;32m   1854\u001b[0m         \u001b[0mself\u001b[0m\u001b[0;34m.\u001b[0m\u001b[0munnamed_cols\u001b[0m \u001b[0;34m=\u001b[0m \u001b[0mself\u001b[0m\u001b[0;34m.\u001b[0m\u001b[0m_reader\u001b[0m\u001b[0;34m.\u001b[0m\u001b[0munnamed_cols\u001b[0m\u001b[0;34m\u001b[0m\u001b[0;34m\u001b[0m\u001b[0m\n\u001b[1;32m   1855\u001b[0m \u001b[0;34m\u001b[0m\u001b[0m\n",
      "\u001b[0;32mpandas/_libs/parsers.pyx\u001b[0m in \u001b[0;36mpandas._libs.parsers.TextReader.__cinit__\u001b[0;34m()\u001b[0m\n",
      "\u001b[0;32mpandas/_libs/parsers.pyx\u001b[0m in \u001b[0;36mpandas._libs.parsers.TextReader._setup_parser_source\u001b[0;34m()\u001b[0m\n",
      "\u001b[0;31mFileNotFoundError\u001b[0m: [Errno 2] File b'/Users/markomiholjcic/Documents/GitHub/COMP5360Project/project_files/csv_files/CLEANCDRdata/csv' does not exist: b'/Users/markomiholjcic/Documents/GitHub/COMP5360Project/project_files/csv_files/CLEANCDRdata/csv'"
     ]
    }
   ],
   "source": [
    "df = pd.read_csv('/Users/markomiholjcic/Documents/GitHub/COMP5360Project/project_files/csv_files/CLEANCDRdata.csv')"
   ]
  },
  {
   "cell_type": "code",
   "execution_count": null,
   "metadata": {},
   "outputs": [],
   "source": [
    "from datetime import datetime\n",
    "Dates = df.groupby(\"Last Update\")\n",
    "df1 = Dates.count()\n",
    "\n",
    "df1 = list(df1.index.values)\n",
    "df1.sort(key = lambda date: datetime.strptime(date, '%m/%d/%y'))\n",
    "\n",
    "dfDate = pd.DataFrame(df1)\n",
    "dfDate"
   ]
  },
  {
   "cell_type": "code",
   "execution_count": null,
   "metadata": {},
   "outputs": [],
   "source": [
    "China = df[df[\"Country/Region\"] == \"China\"]  \n",
    "China\n",
    "dChina = China.groupby(\"Last Update\")\n",
    "dChina = dChina.sum()\n",
    "dChina\n",
    "dChina = list(dChina[\"Confirmed\"].values)\n",
    "dChina.sort()\n",
    "dChina\n",
    "\n",
    "ChinaCases = pd.DataFrame({\"China\": dChina})\n",
    "\n",
    "ChinaCases\n",
    "ChinaCases = pd.concat([dfDate,ChinaCases], axis=1, sort = False)\n",
    "ChinaCases\n",
    "ChinaCases = ChinaCases.rename(columns={0: \"Date\"})\n",
    "ChinaCases"
   ]
  },
  {
   "cell_type": "code",
   "execution_count": null,
   "metadata": {},
   "outputs": [],
   "source": [
    "FMT = '%m/%d/%y'\n",
    "days = ChinaCases['Date']\n",
    "numday = []\n",
    "from datetime import datetime \n",
    "for a in days:\n",
    "    x = a\n",
    "    y = (datetime.strptime(x, FMT) - datetime.strptime(\"1/21/20\", FMT))\n",
    "    z = y.days\n",
    "    numday.append(z)\n",
    "numday\n",
    "#ChinaCases['Date'] = days.map(lambda x : (datetime.strptime(x, FMT) - datetime.strptime(\"1/21/20\", FMT)).days  )"
   ]
  },
  {
   "cell_type": "code",
   "execution_count": 6,
   "metadata": {},
   "outputs": [],
   "source": [
    "import numpy as np\n",
    "def LogisticModel(x,v,t,c):\n",
    "    return c/(1+np.exp(-(x-t)/v))"
   ]
  },
  {
   "cell_type": "code",
   "execution_count": null,
   "metadata": {
    "scrolled": false
   },
   "outputs": [],
   "source": [
    "from scipy.optimize import curve_fit\n",
    "from scipy.optimize import fsolve\n",
    "import matplotlib.pyplot as plt\n",
    "import math\n",
    "Day = numday\n",
    "Cases = list(ChinaCases.iloc[:,1])\n",
    "\n",
    "plt.plot(Day, Cases, label=\"COVID-19 Data\")\n",
    "\n",
    "fit = curve_fit(LogisticModel,Day,Cases,p0=[2,30,75000])\n",
    "params = fit[0]\n",
    "v = params[0]\n",
    "t = params[1]\n",
    "c = params[2]\n",
    "\n",
    "print(v)\n",
    "print(t)\n",
    "print(c)\n",
    "\n",
    "peakinf.append(math.ceil(c))\n",
    "\n",
    "import math\n",
    "finishday = t\n",
    "finishday = math.ceil(finishday)\n",
    "startdate = \"01/21/2020\"\n",
    "\n",
    "enddate = pd.to_datetime(startdate) + pd.DateOffset(days=finishday)\n",
    "print(\"Day of Inflection: \" + str(enddate))\n",
    "\n",
    "sol = int(fsolve(lambda Day : LogisticModel(Day,v,t,c) - int(c),t))\n",
    "sol\n",
    "\n",
    "startdate = \"01/21/2020\"\n",
    "enddate = pd.to_datetime(startdate) + pd.DateOffset(days=sol)\n",
    "print(\"End of the Infection: \" + str(enddate))\n",
    "\n",
    "pred_x = list(range(max(Day),sol))\n",
    "pred_x\n",
    "\n",
    "Pred = [LogisticModel(i,v,t,c) for i in Day+pred_x]\n",
    "\n",
    "plt.plot(Day+pred_x, Pred, label=\"Model Prediction\")\n",
    "plt.title(\"China Logistic Model\")\n",
    "plt.xlabel(\"Days since Outbreak\"); plt.ylabel(\"Number of Cases\")\n",
    "plt.legend()"
   ]
  },
  {
   "cell_type": "code",
   "execution_count": 8,
   "metadata": {},
   "outputs": [
    {
     "name": "stdout",
     "output_type": "stream",
     "text": [
      "Day of Inflection: 2020-02-09 00:00:00\n"
     ]
    }
   ],
   "source": [
    "import math\n",
    "finishday = t\n",
    "finishday = math.ceil(finishday)\n",
    "startdate = \"01/21/2020\"\n",
    "enddate = pd.to_datetime(startdate) + pd.DateOffset(days=finishday)\n",
    "print(\"Day of Inflection: \" + str(enddate))"
   ]
  },
  {
   "cell_type": "code",
   "execution_count": 9,
   "metadata": {},
   "outputs": [
    {
     "name": "stdout",
     "output_type": "stream",
     "text": [
      "End of the Infection: 2020-03-28 00:00:00\n"
     ]
    }
   ],
   "source": [
    "sol = int(fsolve(lambda Day : LogisticModel(Day,v,t,c) - int(c),t))\n",
    "sol\n",
    "startdate = \"01/21/2020\"\n",
    "enddate = pd.to_datetime(startdate) + pd.DateOffset(days=sol)\n",
    "print(\"End of the Infection: \" + str(enddate))"
   ]
  },
  {
   "cell_type": "code",
   "execution_count": null,
   "metadata": {
    "scrolled": true
   },
   "outputs": [],
   "source": [
    "df = pd.read_csv(r'C:\\Users\\austi\\Documents\\GitHub\\COMP5360Project\\project_files\\csv_files\\CLEANCDRdata.csv')\n",
    "\n",
    "from datetime import datetime\n",
    "Dates = df.groupby(\"Last Update\")\n",
    "df1 = Dates.count()\n",
    "\n",
    "df1 = list(df1.index.values)\n",
    "df1.sort(key = lambda date: datetime.strptime(date, '%m/%d/%y'))\n",
    "\n",
    "\n",
    "SK = df[df[\"Country/Region\"] == \"South Korea\"]  \n",
    "SK\n",
    "dSK = list(SK[\"Confirmed\"].values)\n",
    "dSK.sort()\n",
    "length = len(dSK)\n",
    "\n",
    "dfDate = pd.DataFrame(df1[0:length])\n",
    "dfDate\n",
    "\n",
    "SKCases = pd.DataFrame({\"South Korea\": dSK})\n",
    "\n",
    "SKCases\n",
    "SKCases = pd.concat([dfDate,SKCases], axis=1, sort = False)\n",
    "SKCases\n",
    "SKCases = SKCases.rename(columns={0: \"Date\"})\n",
    "SKCases\n",
    "\n",
    "FMT = '%m/%d/%y'\n",
    "days = SKCases['Date']\n",
    "numday = []\n",
    "from datetime import datetime \n",
    "for a in days:\n",
    "    x = a\n",
    "    y = (datetime.strptime(x, FMT) - datetime.strptime(\"1/21/20\", FMT))\n",
    "    z = y.days\n",
    "    numday.append(z)\n",
    "numday"
   ]
  },
  {
   "cell_type": "code",
   "execution_count": 11,
   "metadata": {
    "scrolled": true
   },
   "outputs": [
    {
     "name": "stdout",
     "output_type": "stream",
     "text": [
      "3.4701968393671003\n",
      "36.422175095701\n",
      "8879.324147064912\n",
      "Day of Inflection: 2020-03-05 00:00:00\n",
      "End of the Infection: 2020-04-01 00:00:00\n"
     ]
    },
    {
     "data": {
      "text/plain": [
       "<matplotlib.legend.Legend at 0x282daf96f48>"
      ]
     },
     "execution_count": 11,
     "metadata": {},
     "output_type": "execute_result"
    },
    {
     "data": {
      "image/png": "[encoded data removed]",
      "text/plain": [
       "<Figure size 432x288 with 1 Axes>"
      ]
     },
     "metadata": {
      "needs_background": "light"
     },
     "output_type": "display_data"
    }
   ],
   "source": [
    "Day = numday\n",
    "Cases = list(SKCases.iloc[:,1])\n",
    "\n",
    "plt.plot(Day, Cases, label=\"COVID-19 Data\")\n",
    "\n",
    "fit = curve_fit(LogisticModel,Day,Cases,p0=[2,30,75000])\n",
    "params = fit[0]\n",
    "v = params[0]\n",
    "t = params[1]\n",
    "c = params[2]\n",
    "\n",
    "print(v)\n",
    "print(t)\n",
    "print(c)\n",
    "\n",
    "peakinf.append(math.ceil(c))\n",
    "\n",
    "import math\n",
    "finishday = t\n",
    "finishday = math.ceil(finishday)\n",
    "startdate = \"01/21/2020\"\n",
    "startdate = pd.to_datetime(startdate) + pd.DateOffset(days=(67-len(numday)))\n",
    "startdate\n",
    "\n",
    "enddate = pd.to_datetime(startdate) + pd.DateOffset(days=finishday)\n",
    "print(\"Day of Inflection: \" + str(enddate))\n",
    "\n",
    "sol = int(fsolve(lambda Day : LogisticModel(Day,v,t,c) - int(c),t))\n",
    "sol\n",
    "\n",
    "startdate = \"01/21/2020\"\n",
    "enddate = pd.to_datetime(startdate) + pd.DateOffset(days=sol)\n",
    "print(\"End of the Infection: \" + str(enddate))\n",
    "\n",
    "pred_x = list(range(max(Day),sol))\n",
    "pred_x\n",
    "\n",
    "Pred = [LogisticModel(i,v,t,c) for i in Day+pred_x]\n",
    "\n",
    "plt.plot(Day+pred_x, Pred, label=\"Model Prediction\")\n",
    "\n",
    "plt.title(\"South Korea Logistic Model\")\n",
    "plt.xlabel(\"Days since Outbreak\"); plt.ylabel(\"Number of Cases\")\n",
    "plt.legend()"
   ]
  },
  {
   "cell_type": "code",
   "execution_count": 12,
   "metadata": {},
   "outputs": [
    {
     "name": "stdout",
     "output_type": "stream",
     "text": [
      "Day of Inflection: 2020-02-27 00:00:00\n",
      "End of the Infection: 2020-04-01 00:00:00\n"
     ]
    }
   ],
   "source": [
    "import math\n",
    "finishday = t\n",
    "finishday = math.ceil(finishday)\n",
    "startdate = \"01/21/2020\"\n",
    "enddate = pd.to_datetime(startdate) + pd.DateOffset(days=finishday)\n",
    "print(\"Day of Inflection: \" + str(enddate))\n",
    "\n",
    "sol = int(fsolve(lambda Day : LogisticModel(Day,v,t,c) - int(c),t))\n",
    "sol\n",
    "startdate = \"01/21/2020\"\n",
    "enddate = pd.to_datetime(startdate) + pd.DateOffset(days=sol)\n",
    "print(\"End of the Infection: \" + str(enddate))"
   ]
  },
  {
   "cell_type": "code",
   "execution_count": null,
   "metadata": {
    "scrolled": true
   },
   "outputs": [],
   "source": [
    "\n",
    "from datetime import datetime\n",
    "Dates = df.groupby(\"Last Update\")\n",
    "df1 = Dates.count()\n",
    "\n",
    "df1 = list(df1.index.values)\n",
    "df1.sort(key = lambda date: datetime.strptime(date, '%m/%d/%y'))\n",
    "\n",
    "USA = df[df[\"Country/Region\"] == \"US\"]  \n",
    "USA\n",
    "dUS = USA.groupby(\"Last Update\")\n",
    "dUS = dUS.sum()\n",
    "dUS\n",
    "\n",
    "dUS = list(dUS[\"Confirmed\"].values)\n",
    "dUS.sort()\n",
    "dUS\n",
    "\n",
    "length = len(dUS)\n",
    "length\n",
    "\n",
    "dfDate = pd.DataFrame(df1[0:length])\n",
    "dfDate\n",
    "\n",
    "USCases = pd.DataFrame({\"US\": dUS})\n",
    "USCases\n",
    "USCases = pd.concat([dfDate,USCases], axis=1, sort = False)\n",
    "USCases\n",
    "USCases = USCases.rename(columns={0: \"Date\"})\n",
    "USCases\n",
    "\n",
    "FMT = '%m/%d/%y'\n",
    "days = USCases['Date']\n",
    "numday = []\n",
    "from datetime import datetime \n",
    "for a in days:\n",
    "    x = a\n",
    "    y = (datetime.strptime(x, FMT) - datetime.strptime(\"1/21/20\", FMT))\n",
    "    z = y.days\n",
    "    numday.append(z)\n",
    "numday"
   ]
  },
  {
   "cell_type": "code",
   "execution_count": 14,
   "metadata": {
    "scrolled": true
   },
   "outputs": [
    {
     "name": "stdout",
     "output_type": "stream",
     "text": [
      "3.170850301555759\n",
      "50.893133722405295\n",
      "237325.15653904516\n",
      "Day of Inflection: 2020-03-28 00:00:00\n",
      "End of the Infection: 2020-04-26 00:00:00\n"
     ]
    },
    {
     "data": {
      "text/plain": [
       "<matplotlib.legend.Legend at 0x282daff9e48>"
      ]
     },
     "execution_count": 14,
     "metadata": {},
     "output_type": "execute_result"
    },
    {
     "data": {
      "image/png": "[encoded data removed]",
      "text/plain": [
       "<Figure size 432x288 with 1 Axes>"
      ]
     },
     "metadata": {
      "needs_background": "light"
     },
     "output_type": "display_data"
    }
   ],
   "source": [
    "Day = numday\n",
    "Cases = list(USCases.iloc[:,1])\n",
    "\n",
    "plt.plot(Day, Cases, label=\"COVID-19 Data\")\n",
    "\n",
    "fit = curve_fit(LogisticModel,Day,Cases,p0=[2,30,75000])\n",
    "params = fit[0]\n",
    "v = params[0]\n",
    "t = params[1]\n",
    "c = params[2]\n",
    "\n",
    "print(v)\n",
    "print(t)\n",
    "print(c)\n",
    "\n",
    "peakinf.append(math.ceil(c))\n",
    "\n",
    "import math\n",
    "finishday = t\n",
    "finishday = math.ceil(finishday)\n",
    "startdate = \"01/21/2020\"\n",
    "startdate = pd.to_datetime(startdate) + pd.DateOffset(days=(67-len(numday)))\n",
    "startdate\n",
    "\n",
    "enddate = pd.to_datetime(startdate) + pd.DateOffset(days=finishday)\n",
    "print(\"Day of Inflection: \" + str(enddate))\n",
    "\n",
    "sol = int(fsolve(lambda Day : LogisticModel(Day,v,t,c) - int(c),t))\n",
    "sol\n",
    "\n",
    "startdate = \"01/21/2020\"\n",
    "enddate = pd.to_datetime(startdate) + pd.DateOffset(days=sol)\n",
    "print(\"End of the Infection: \" + str(enddate))\n",
    "\n",
    "pred_x = list(range(max(Day),sol))\n",
    "pred_x\n",
    "\n",
    "Pred = [LogisticModel(i,v,t,c) for i in Day+pred_x]\n",
    "\n",
    "plt.plot(Day+pred_x, Pred, label=\"Model Prediction\")\n",
    "plt.title(\"United States Logistic Model\")\n",
    "plt.xlabel(\"Days since Outbreak\"); plt.ylabel(\"Number of Cases\")\n",
    "plt.legend()"
   ]
  },
  {
   "cell_type": "code",
   "execution_count": null,
   "metadata": {},
   "outputs": [],
   "source": [
    "\n",
    "from datetime import datetime\n",
    "Dates = df.groupby(\"Last Update\")\n",
    "df1 = Dates.count()\n",
    "\n",
    "df1 = list(df1.index.values)\n",
    "df1.sort(key = lambda date: datetime.strptime(date, '%m/%d/%y'))\n",
    "\n",
    "ITA = df[df[\"Country/Region\"] == \"Italy\"]  \n",
    "dItaly = ITA.groupby(\"Last Update\")\n",
    "dItaly = dItaly.sum()\n",
    "dItaly\n",
    "\n",
    "dItaly = list(dItaly[\"Confirmed\"].values)\n",
    "dItaly.sort()\n",
    "dItaly\n",
    "\n",
    "length = len(dItaly)\n",
    "length\n",
    "\n",
    "dfDate = pd.DataFrame(df1[0:length])\n",
    "dfDate\n",
    "\n",
    "ITACases = pd.DataFrame({\"Italy\": dItaly})\n",
    "ITACases\n",
    "ITACases = pd.concat([dfDate,ITACases], axis=1, sort = False)\n",
    "ITACases\n",
    "ITACases = ITACases.rename(columns={0: \"Date\"})\n",
    "ITACases\n",
    "\n",
    "FMT = '%m/%d/%y'\n",
    "days = ITACases['Date']\n",
    "numday = []\n",
    "from datetime import datetime \n",
    "for a in days:\n",
    "    x = a\n",
    "    y = (datetime.strptime(x, FMT) - datetime.strptime(\"1/21/20\", FMT))\n",
    "    z = y.days\n",
    "    numday.append(z)\n",
    "numday"
   ]
  },
  {
   "cell_type": "code",
   "execution_count": 16,
   "metadata": {
    "scrolled": true
   },
   "outputs": [
    {
     "name": "stdout",
     "output_type": "stream",
     "text": [
      "4.0911709469402044\n",
      "28.97263075890921\n",
      "105430.77812393679\n",
      "Day of Inflection: 2020-03-21 00:00:00\n",
      "End of the Infection: 2020-04-07 00:00:00\n"
     ]
    },
    {
     "data": {
      "text/plain": [
       "<matplotlib.legend.Legend at 0x282db084248>"
      ]
     },
     "execution_count": 16,
     "metadata": {},
     "output_type": "execute_result"
    },
    {
     "data": {
      "image/png": "[encoded data removed]",
      "text/plain": [
       "<Figure size 432x288 with 1 Axes>"
      ]
     },
     "metadata": {
      "needs_background": "light"
     },
     "output_type": "display_data"
    }
   ],
   "source": [
    "Day = numday\n",
    "Cases = list(ITACases.iloc[:,1])\n",
    "\n",
    "plt.plot(Day, Cases, label=\"COVID-19 Data\")\n",
    "\n",
    "fit = curve_fit(LogisticModel,Day,Cases,p0=[2,30,75000])\n",
    "params = fit[0]\n",
    "v = params[0]\n",
    "t = params[1]\n",
    "c = params[2]\n",
    "\n",
    "print(v)\n",
    "print(t)\n",
    "print(c)\n",
    "\n",
    "peakinf.append(math.ceil(c))\n",
    "\n",
    "import math\n",
    "finishday = t\n",
    "finishday = math.ceil(finishday)\n",
    "startdate = \"01/21/2020\"\n",
    "startdate = pd.to_datetime(startdate) + pd.DateOffset(days=(67-len(numday)))\n",
    "startdate\n",
    "\n",
    "enddate = pd.to_datetime(startdate) + pd.DateOffset(days=finishday)\n",
    "print(\"Day of Inflection: \" + str(enddate))\n",
    "\n",
    "sol = int(fsolve(lambda Day : LogisticModel(Day,v,t,c) - int(c),t))\n",
    "sol\n",
    "\n",
    "startdate = \"01/21/2020\"\n",
    "enddate = pd.to_datetime(startdate) + pd.DateOffset(days=sol)\n",
    "print(\"End of the Infection: \" + str(enddate))\n",
    "\n",
    "pred_x = list(range(max(Day),sol))\n",
    "pred_x\n",
    "\n",
    "Pred = [LogisticModel(i,v,t,c) for i in Day+pred_x]\n",
    "\n",
    "plt.plot(Day+pred_x, Pred, label=\"Model Prediction\")\n",
    "plt.title(\"Italy Logistic Model\")\n",
    "plt.xlabel(\"Days since Outbreak\"); plt.ylabel(\"Number of Cases\")\n",
    "plt.legend()"
   ]
  },
  {
   "cell_type": "code",
   "execution_count": 17,
   "metadata": {
    "scrolled": true
   },
   "outputs": [
    {
     "name": "stdout",
     "output_type": "stream",
     "text": [
      "4.381458357617961\n",
      "40.24372556306867\n",
      "62575.79999852355\n",
      "Day of Inflection: 2020-04-02 00:00:00\n",
      "End of the Infection: 2020-05-20 00:00:00\n"
     ]
    },
    {
     "data": {
      "text/plain": [
       "<matplotlib.legend.Legend at 0x282db135d88>"
      ]
     },
     "execution_count": 17,
     "metadata": {},
     "output_type": "execute_result"
    },
    {
     "data": {
      "image/png": "[encoded data removed]",
      "text/plain": [
       "<Figure size 432x288 with 1 Axes>"
      ]
     },
     "metadata": {
      "needs_background": "light"
     },
     "output_type": "display_data"
    }
   ],
   "source": [
    "\n",
    "from datetime import datetime\n",
    "Dates = df.groupby(\"Last Update\")\n",
    "df1 = Dates.count()\n",
    "\n",
    "df1 = list(df1.index.values)\n",
    "df1.sort(key = lambda date: datetime.strptime(date, '%m/%d/%y'))\n",
    "\n",
    "UK = df[df[\"Country/Region\"] == \"United Kingdom\"]  \n",
    "dUK = UK.groupby(\"Last Update\")\n",
    "dUK = dUK.sum()\n",
    "dUK\n",
    "\n",
    "dUK = list(dUK[\"Confirmed\"].values)\n",
    "dUK.sort()\n",
    "dUK\n",
    "\n",
    "length = len(dUK)\n",
    "length\n",
    "\n",
    "dfDate = pd.DataFrame(df1[0:length])\n",
    "dfDate\n",
    "\n",
    "UKCases = pd.DataFrame({\"United Kingdom\": dUK})\n",
    "UKCases\n",
    "UKCases = pd.concat([dfDate,UKCases], axis=1, sort = False)\n",
    "UKCases\n",
    "UKCases = UKCases.rename(columns={0: \"Date\"})\n",
    "UKCases\n",
    "\n",
    "FMT = '%m/%d/%y'\n",
    "days = UKCases['Date']\n",
    "numday = []\n",
    "from datetime import datetime \n",
    "for a in days:\n",
    "    x = a\n",
    "    y = (datetime.strptime(x, FMT) - datetime.strptime(\"1/21/20\", FMT))\n",
    "    z = y.days\n",
    "    numday.append(z)\n",
    "numday\n",
    "\n",
    "Day = numday\n",
    "Cases = list(UKCases.iloc[:,1])\n",
    "\n",
    "plt.plot(Day, Cases, label=\"COVID-19 Data\")\n",
    "\n",
    "fit = curve_fit(LogisticModel,Day,Cases,p0=[2,30,75000])\n",
    "params = fit[0]\n",
    "v = params[0]\n",
    "t = params[1]\n",
    "c = params[2]\n",
    "\n",
    "print(v)\n",
    "print(t)\n",
    "print(c)\n",
    "\n",
    "peakinf.append(math.ceil(c))\n",
    "\n",
    "import math\n",
    "finishday = t\n",
    "finishday = math.ceil(finishday)\n",
    "startdate = \"01/21/2020\"\n",
    "startdate = pd.to_datetime(startdate) + pd.DateOffset(days=(67-len(numday)))\n",
    "startdate\n",
    "\n",
    "enddate = pd.to_datetime(startdate) + pd.DateOffset(days=finishday)\n",
    "print(\"Day of Inflection: \" + str(enddate))\n",
    "\n",
    "sol = int(fsolve(lambda Day : LogisticModel(Day,v,t,c) - int(c),t))\n",
    "sol\n",
    "\n",
    "\n",
    "enddate = pd.to_datetime(startdate) + pd.DateOffset(days=sol)\n",
    "print(\"End of the Infection: \" + str(enddate))\n",
    "\n",
    "pred_x = list(range(max(Day),sol))\n",
    "pred_x\n",
    "\n",
    "Pred = [LogisticModel(i,v,t,c) for i in Day+pred_x]\n",
    "\n",
    "plt.plot(Day+pred_x, Pred, label=\"Model Prediction\")\n",
    "plt.title(\"United Kingdom Logistic Model\")\n",
    "plt.xlabel(\"Days since Outbreak\"); plt.ylabel(\"Number of Cases\")\n",
    "plt.legend()"
   ]
  },
  {
   "cell_type": "code",
   "execution_count": 18,
   "metadata": {
    "scrolled": true
   },
   "outputs": [
    {
     "name": "stdout",
     "output_type": "stream",
     "text": [
      "2.701371731208712\n",
      "18.68120432424304\n",
      "1037.8199149074474\n",
      "Day of Inflection: 2020-03-29 00:00:00\n",
      "End of the Infection: 2020-04-16 00:00:00\n"
     ]
    },
    {
     "data": {
      "text/plain": [
       "<matplotlib.legend.Legend at 0x282db1abc48>"
      ]
     },
     "execution_count": 18,
     "metadata": {},
     "output_type": "execute_result"
    },
    {
     "data": {
      "image/png": "[encoded data removed]",
      "text/plain": [
       "<Figure size 432x288 with 1 Axes>"
      ]
     },
     "metadata": {
      "needs_background": "light"
     },
     "output_type": "display_data"
    }
   ],
   "source": [
    "\n",
    "from datetime import datetime\n",
    "Dates = df.groupby(\"Last Update\")\n",
    "df1 = Dates.count()\n",
    "\n",
    "df1 = list(df1.index.values)\n",
    "df1.sort(key = lambda date: datetime.strptime(date, '%m/%d/%y'))\n",
    "\n",
    "NZ = df[df[\"Country/Region\"] == \"New Zealand\"]  \n",
    "dNZ = NZ.groupby(\"Last Update\")\n",
    "dNZ = dNZ.sum()\n",
    "dNZ\n",
    "\n",
    "dNZ = list(dNZ[\"Confirmed\"].values)\n",
    "dNZ.sort()\n",
    "dNZ\n",
    "\n",
    "length = len(dNZ)\n",
    "length\n",
    "\n",
    "dfDate = pd.DataFrame(df1[0:length])\n",
    "dfDate\n",
    "\n",
    "NZCases = pd.DataFrame({\"New Zealand\": dNZ})\n",
    "NZCases\n",
    "NZCases = pd.concat([dfDate,NZCases], axis=1, sort = False)\n",
    "NZCases\n",
    "NZCases = NZCases.rename(columns={0: \"Date\"})\n",
    "NZCases\n",
    "\n",
    "FMT = '%m/%d/%y'\n",
    "days = NZCases['Date']\n",
    "numday = []\n",
    "from datetime import datetime \n",
    "for a in days:\n",
    "    x = a\n",
    "    y = (datetime.strptime(x, FMT) - datetime.strptime(\"1/21/20\", FMT))\n",
    "    z = y.days\n",
    "    numday.append(z)\n",
    "numday\n",
    "\n",
    "Day = numday\n",
    "Cases = list(NZCases.iloc[:,1])\n",
    "\n",
    "plt.plot(Day, Cases, label=\"COVID-19 Data\")\n",
    "\n",
    "fit = curve_fit(LogisticModel,Day,Cases,p0=[2,30,75000])\n",
    "params = fit[0]\n",
    "v = params[0]\n",
    "t = params[1]\n",
    "c = params[2]\n",
    "\n",
    "print(v)\n",
    "print(t)\n",
    "print(c)\n",
    "\n",
    "peakinf.append(math.ceil(c))\n",
    "\n",
    "import math\n",
    "finishday = t\n",
    "finishday = math.ceil(finishday)\n",
    "startdate = \"01/21/2020\"\n",
    "startdate = pd.to_datetime(startdate) + pd.DateOffset(days=(67-len(numday)))\n",
    "startdate\n",
    "\n",
    "enddate = pd.to_datetime(startdate) + pd.DateOffset(days=finishday)\n",
    "print(\"Day of Inflection: \" + str(enddate))\n",
    "\n",
    "sol = int(fsolve(lambda Day : LogisticModel(Day,v,t,c) - int(c),t))\n",
    "sol\n",
    "\n",
    "\n",
    "enddate = pd.to_datetime(startdate) + pd.DateOffset(days=sol)\n",
    "print(\"End of the Infection: \" + str(enddate))\n",
    "\n",
    "pred_x = list(range(max(Day),sol))\n",
    "pred_x\n",
    "\n",
    "Pred = [LogisticModel(i,v,t,c) for i in Day+pred_x]\n",
    "\n",
    "plt.plot(Day+pred_x, Pred, label=\"Model Prediction\")\n",
    "plt.title(\"New Zealand Logistic Model\")\n",
    "plt.xlabel(\"Days since Outbreak\"); plt.ylabel(\"Number of Cases\")\n",
    "plt.legend()"
   ]
  },
  {
   "cell_type": "code",
   "execution_count": 19,
   "metadata": {
    "scrolled": false
   },
   "outputs": [
    {
     "name": "stdout",
     "output_type": "stream",
     "text": [
      "6.164848465896461\n",
      "29.730145659273266\n",
      "42447.32141224196\n",
      "Day of Inflection: 2020-03-21 00:00:00\n",
      "End of the Infection: 2020-06-01 00:00:00\n"
     ]
    },
    {
     "data": {
      "text/plain": [
       "<matplotlib.legend.Legend at 0x282db22ef48>"
      ]
     },
     "execution_count": 19,
     "metadata": {},
     "output_type": "execute_result"
    },
    {
     "data": {
      "image/png": "[encoded data removed]",
      "text/plain": [
       "<Figure size 432x288 with 1 Axes>"
      ]
     },
     "metadata": {
      "needs_background": "light"
     },
     "output_type": "display_data"
    }
   ],
   "source": [
    "\n",
    "from datetime import datetime\n",
    "Dates = df.groupby(\"Last Update\")\n",
    "df1 = Dates.count()\n",
    "\n",
    "df1 = list(df1.index.values)\n",
    "df1.sort(key = lambda date: datetime.strptime(date, '%m/%d/%y'))\n",
    "\n",
    "IR = df[df[\"Country/Region\"] == \"Iran\"]  \n",
    "dIR = IR.groupby(\"Last Update\")\n",
    "dIR = dIR.sum()\n",
    "dIR\n",
    "\n",
    "dIR = list(dIR[\"Confirmed\"].values)\n",
    "dIR.sort()\n",
    "dIR\n",
    "\n",
    "length = len(dIR)\n",
    "length\n",
    "\n",
    "dfDate = pd.DataFrame(df1[0:length])\n",
    "dfDate\n",
    "\n",
    "IRCases = pd.DataFrame({\"Iran\": dIR})\n",
    "IRCases\n",
    "IRCases = pd.concat([dfDate,IRCases], axis=1, sort = False)\n",
    "IRCases\n",
    "IRCases = IRCases.rename(columns={0: \"Date\"})\n",
    "IRCases\n",
    "\n",
    "FMT = '%m/%d/%y'\n",
    "days = IRCases['Date']\n",
    "numday = []\n",
    "from datetime import datetime \n",
    "for a in days:\n",
    "    x = a\n",
    "    y = (datetime.strptime(x, FMT) - datetime.strptime(\"1/21/20\", FMT))\n",
    "    z = y.days\n",
    "    numday.append(z)\n",
    "numday\n",
    "\n",
    "Day = numday\n",
    "Cases = list(IRCases.iloc[:,1])\n",
    "\n",
    "plt.plot(Day, Cases, label=\"COVID-19 Data\")\n",
    "\n",
    "fit = curve_fit(LogisticModel,Day,Cases,p0=[2,30,75000])\n",
    "params = fit[0]\n",
    "v = params[0]\n",
    "t = params[1]\n",
    "c = params[2]\n",
    "\n",
    "print(v)\n",
    "print(t)\n",
    "print(c)\n",
    "\n",
    "peakinf.append(math.ceil(c))\n",
    "\n",
    "import math\n",
    "finishday = t\n",
    "finishday = math.ceil(finishday)\n",
    "startdate = \"01/21/2020\"\n",
    "startdate = pd.to_datetime(startdate) + pd.DateOffset(days=(67-len(numday)))\n",
    "startdate\n",
    "\n",
    "enddate = pd.to_datetime(startdate) + pd.DateOffset(days=finishday)\n",
    "print(\"Day of Inflection: \" + str(enddate))\n",
    "\n",
    "sol = int(fsolve(lambda Day : LogisticModel(Day,v,t,c) - int(c),t))\n",
    "sol\n",
    "\n",
    "enddate = pd.to_datetime(startdate) + pd.DateOffset(days=sol)\n",
    "print(\"End of the Infection: \" + str(enddate))\n",
    "\n",
    "pred_x = list(range(max(Day),sol))\n",
    "pred_x\n",
    "\n",
    "Pred = [LogisticModel(i,v,t,c) for i in Day+pred_x]\n",
    "\n",
    "plt.plot(Day+pred_x, Pred, label=\"Model Prediction\")\n",
    "plt.title(\"Iran Logistic Model\")\n",
    "plt.xlabel(\"Days since Outbreak\"); plt.ylabel(\"Number of Cases\")\n",
    "plt.legend()"
   ]
  },
  {
   "cell_type": "code",
   "execution_count": null,
   "metadata": {},
   "outputs": [],
   "source": [
    "\n",
    "from datetime import datetime\n",
    "Dates = df.groupby(\"Last Update\")\n",
    "df1 = Dates.count()\n",
    "\n",
    "df1 = list(df1.index.values)\n",
    "df1.sort(key = lambda date: datetime.strptime(date, '%m/%d/%y'))\n",
    "\n",
    "AU = df[df[\"Country/Region\"] == \"Australia\"]  \n",
    "dAU = AU.groupby(\"Last Update\")\n",
    "dAU = dAU.sum()\n",
    "dAU\n",
    "\n",
    "dAU = list(dAU[\"Confirmed\"].values)\n",
    "dAU.sort()\n",
    "dAU\n",
    "\n",
    "length = len(dAU)\n",
    "length\n",
    "\n",
    "dfDate = pd.DataFrame(df1[0:length])\n",
    "dfDate\n",
    "\n",
    "AUCases = pd.DataFrame({\"Australia\": dAU})\n",
    "AUCases\n",
    "AUCases = pd.concat([dfDate,AUCases], axis=1, sort = False)\n",
    "AUCases\n",
    "AUCases = AUCases.rename(columns={0: \"Date\"})\n",
    "AUCases"
   ]
  },
  {
   "cell_type": "code",
   "execution_count": 21,
   "metadata": {
    "scrolled": true
   },
   "outputs": [
    {
     "name": "stdout",
     "output_type": "stream",
     "text": [
      "3.5678210796438092\n",
      "44.29959105949179\n",
      "5842.179113546007\n",
      "Day of Inflection: 2020-03-27 00:00:00\n",
      "End of the Infection: 2020-05-02 00:00:00\n"
     ]
    },
    {
     "data": {
      "text/plain": [
       "<matplotlib.legend.Legend at 0x282db2a5dc8>"
      ]
     },
     "execution_count": 21,
     "metadata": {},
     "output_type": "execute_result"
    },
    {
     "data": {
      "image/png": "[encoded data removed]",
      "text/plain": [
       "<Figure size 432x288 with 1 Axes>"
      ]
     },
     "metadata": {
      "needs_background": "light"
     },
     "output_type": "display_data"
    }
   ],
   "source": [
    "\n",
    "from datetime import datetime\n",
    "Dates = df.groupby(\"Last Update\")\n",
    "df1 = Dates.count()\n",
    "\n",
    "df1 = list(df1.index.values)\n",
    "df1.sort(key = lambda date: datetime.strptime(date, '%m/%d/%y'))\n",
    "\n",
    "AU = df[df[\"Country/Region\"] == \"Australia\"]  \n",
    "dAU = AU.groupby(\"Last Update\")\n",
    "dAU = dAU.sum()\n",
    "dAU\n",
    "\n",
    "dAU = list(dAU[\"Confirmed\"].values)\n",
    "dAU.sort()\n",
    "dAU\n",
    "\n",
    "length = len(dAU)\n",
    "length\n",
    "\n",
    "dfDate = pd.DataFrame(df1[0:length])\n",
    "dfDate\n",
    "\n",
    "AUCases = pd.DataFrame({\"Australia\": dAU})\n",
    "AUCases\n",
    "AUCases = pd.concat([dfDate,AUCases], axis=1, sort = False)\n",
    "AUCases\n",
    "AUCases = AUCases.rename(columns={0: \"Date\"})\n",
    "AUCases\n",
    "\n",
    "FMT = '%m/%d/%y'\n",
    "days = AUCases['Date']\n",
    "numday = []\n",
    "from datetime import datetime \n",
    "for a in days:\n",
    "    x = a\n",
    "    y = (datetime.strptime(x, FMT) - datetime.strptime(\"1/21/20\", FMT))\n",
    "    z = y.days\n",
    "    numday.append(z)\n",
    "numday\n",
    "\n",
    "Day = numday\n",
    "Cases = list(AUCases.iloc[:,1])\n",
    "\n",
    "plt.plot(Day, Cases, label=\"COVID-19 Data\")\n",
    "\n",
    "fit = curve_fit(LogisticModel,Day,Cases,p0=[2,30,75000])\n",
    "params = fit[0]\n",
    "v = params[0]\n",
    "t = params[1]\n",
    "c = params[2]\n",
    "\n",
    "print(v)\n",
    "print(t)\n",
    "print(c)\n",
    "\n",
    "peakinf.append(math.ceil(c))\n",
    "\n",
    "import math\n",
    "finishday = t\n",
    "finishday = math.ceil(finishday)\n",
    "startdate = \"01/21/2020\"\n",
    "startdate = pd.to_datetime(startdate) + pd.DateOffset(days=(67-len(numday)))\n",
    "startdate\n",
    "\n",
    "enddate = pd.to_datetime(startdate) + pd.DateOffset(days=finishday)\n",
    "print(\"Day of Inflection: \" + str(enddate))\n",
    "\n",
    "sol = int(fsolve(lambda Day : LogisticModel(Day,v,t,c) - int(c),t))\n",
    "sol\n",
    "\n",
    "enddate = pd.to_datetime(startdate) + pd.DateOffset(days=sol)\n",
    "print(\"End of the Infection: \" + str(enddate))\n",
    "\n",
    "pred_x = list(range(max(Day),sol))\n",
    "pred_x\n",
    "\n",
    "Pred = [LogisticModel(i,v,t,c) for i in Day+pred_x]\n",
    "\n",
    "plt.plot(Day+pred_x, Pred, label=\"Model Prediction\")\n",
    "plt.title(\"Australia Logistic Model\")\n",
    "plt.xlabel(\"Days since Outbreak\"); plt.ylabel(\"Number of Cases\")\n",
    "plt.legend()"
   ]
  },
  {
   "cell_type": "code",
   "execution_count": 22,
   "metadata": {},
   "outputs": [
    {
     "name": "stdout",
     "output_type": "stream",
     "text": [
      "4.788094775308883\n",
      "33.48324806845805\n",
      "2666.947628169576\n",
      "Day of Inflection: 2020-03-31 00:00:00\n",
      "End of the Infection: 2020-05-07 00:00:00\n"
     ]
    },
    {
     "data": {
      "text/plain": [
       "<matplotlib.legend.Legend at 0x282db27e488>"
      ]
     },
     "execution_count": 22,
     "metadata": {},
     "output_type": "execute_result"
    },
    {
     "data": {
      "image/png": "[encoded data removed]",
      "text/plain": [
       "<Figure size 432x288 with 1 Axes>"
      ]
     },
     "metadata": {
      "needs_background": "light"
     },
     "output_type": "display_data"
    }
   ],
   "source": [
    "\n",
    "from datetime import datetime\n",
    "Dates = df.groupby(\"Last Update\")\n",
    "df1 = Dates.count()\n",
    "\n",
    "df1 = list(df1.index.values)\n",
    "df1.sort(key = lambda date: datetime.strptime(date, '%m/%d/%y'))\n",
    "\n",
    "IN = df[df[\"Country/Region\"] == \"India\"]  \n",
    "dIN = IN.groupby(\"Last Update\")\n",
    "dIN = dIN.sum()\n",
    "dIN\n",
    "\n",
    "dIN = list(dIN[\"Confirmed\"].values)\n",
    "dIN.sort()\n",
    "dIN\n",
    "length = len(dIN)\n",
    "length\n",
    "\n",
    "dfDate = pd.DataFrame(df1[0:length])\n",
    "dfDate\n",
    "\n",
    "INCases = pd.DataFrame({\"India\": dIN})\n",
    "INCases\n",
    "INCases = pd.concat([dfDate,INCases], axis=1, sort = False)\n",
    "INCases\n",
    "INCases = INCases.rename(columns={0: \"Date\"})\n",
    "INCases\n",
    "\n",
    "FMT = '%m/%d/%y'\n",
    "days = INCases['Date']\n",
    "numday = []\n",
    "from datetime import datetime \n",
    "for a in days:\n",
    "    x = a\n",
    "    y = (datetime.strptime(x, FMT) - datetime.strptime(\"1/21/20\", FMT))\n",
    "    z = y.days\n",
    "    numday.append(z)\n",
    "numday\n",
    "\n",
    "Day = numday\n",
    "Cases = list(INCases.iloc[:,1])\n",
    "\n",
    "plt.plot(Day, Cases, label=\"COVID-19 Data\")\n",
    "\n",
    "fit = curve_fit(LogisticModel,Day,Cases,p0=[2,30,75000])\n",
    "params = fit[0]\n",
    "v = params[0]\n",
    "t = params[1]\n",
    "c = params[2]\n",
    "\n",
    "print(v)\n",
    "print(t)\n",
    "print(c)\n",
    "\n",
    "peakinf.append(math.ceil(c))\n",
    "\n",
    "import math\n",
    "finishday = t\n",
    "finishday = math.ceil(finishday)\n",
    "startdate = \"01/21/2020\"\n",
    "startdate = pd.to_datetime(startdate) + pd.DateOffset(days=(67-len(numday)))\n",
    "startdate\n",
    "\n",
    "enddate = pd.to_datetime(startdate) + pd.DateOffset(days=finishday)\n",
    "print(\"Day of Inflection: \" + str(enddate))\n",
    "\n",
    "sol = int(fsolve(lambda Day : LogisticModel(Day,v,t,c) - int(c),t))\n",
    "sol\n",
    "\n",
    "enddate = pd.to_datetime(startdate) + pd.DateOffset(days=sol)\n",
    "print(\"End of the Infection: \" + str(enddate))\n",
    "\n",
    "pred_x = list(range(max(Day),sol))\n",
    "pred_x\n",
    "\n",
    "Pred = [LogisticModel(i,v,t,c) for i in Day+pred_x]\n",
    "\n",
    "plt.plot(Day+pred_x, Pred, label=\"Model Prediction\")\n",
    "plt.title(\"India Logistic Model\")\n",
    "plt.xlabel(\"Days since Outbreak\"); plt.ylabel(\"Number of Cases\")\n",
    "plt.legend()"
   ]
  },
  {
   "cell_type": "code",
   "execution_count": 23,
   "metadata": {},
   "outputs": [
    {
     "name": "stdout",
     "output_type": "stream",
     "text": [
      "3.3817418463793945\n",
      "15.070072439587031\n",
      "811.7011665021364\n",
      "Day of Inflection: 2020-03-24 00:00:00\n",
      "End of the Infection: 2020-04-15 00:00:00\n"
     ]
    },
    {
     "data": {
      "text/plain": [
       "<matplotlib.legend.Legend at 0x282db38f808>"
      ]
     },
     "execution_count": 23,
     "metadata": {},
     "output_type": "execute_result"
    },
    {
     "data": {
      "image/png": "[encoded data removed]",
      "text/plain": [
       "<Figure size 432x288 with 1 Axes>"
      ]
     },
     "metadata": {
      "needs_background": "light"
     },
     "output_type": "display_data"
    }
   ],
   "source": [
    "\n",
    "from datetime import datetime\n",
    "Dates = df.groupby(\"Last Update\")\n",
    "df1 = Dates.count()\n",
    "\n",
    "df1 = list(df1.index.values)\n",
    "df1.sort(key = lambda date: datetime.strptime(date, '%m/%d/%y'))\n",
    "\n",
    "PR = df[df[\"Country/Region\"] == \"Peru\"]  \n",
    "dPR = PR.groupby(\"Last Update\")\n",
    "dPR = dPR.sum()\n",
    "dPR\n",
    "\n",
    "dPR = list(dPR[\"Confirmed\"].values)\n",
    "dPR.sort()\n",
    "dPR\n",
    "length = len(dPR)\n",
    "length\n",
    "\n",
    "dfDate = pd.DataFrame(df1[0:length])\n",
    "dfDate\n",
    "\n",
    "PRCases = pd.DataFrame({\"Peru\": dPR})\n",
    "PRCases\n",
    "PRCases = pd.concat([dfDate,PRCases], axis=1, sort = False)\n",
    "PRCases\n",
    "PRCases = PRCases.rename(columns={0: \"Date\"})\n",
    "PRCases\n",
    "\n",
    "FMT = '%m/%d/%y'\n",
    "days = PRCases['Date']\n",
    "numday = []\n",
    "from datetime import datetime \n",
    "for a in days:\n",
    "    x = a\n",
    "    y = (datetime.strptime(x, FMT) - datetime.strptime(\"1/21/20\", FMT))\n",
    "    z = y.days\n",
    "    numday.append(z)\n",
    "numday\n",
    "\n",
    "Day = numday\n",
    "Cases = list(PRCases.iloc[:,1])\n",
    "\n",
    "plt.plot(Day, Cases, label=\"COVID-19 Data\")\n",
    "\n",
    "fit = curve_fit(LogisticModel,Day,Cases,p0=[2,30,75000])\n",
    "params = fit[0]\n",
    "v = params[0]\n",
    "t = params[1]\n",
    "c = params[2]\n",
    "\n",
    "print(v)\n",
    "print(t)\n",
    "print(c)\n",
    "\n",
    "peakinf.append(math.ceil(c))\n",
    "\n",
    "import math\n",
    "finishday = t\n",
    "finishday = math.ceil(finishday)\n",
    "startdate = \"01/21/2020\"\n",
    "startdate = pd.to_datetime(startdate) + pd.DateOffset(days=(67-len(numday)))\n",
    "startdate\n",
    "\n",
    "enddate = pd.to_datetime(startdate) + pd.DateOffset(days=finishday)\n",
    "print(\"Day of Inflection: \" + str(enddate))\n",
    "\n",
    "sol = int(fsolve(lambda Day : LogisticModel(Day,v,t,c) - int(c),t))\n",
    "sol\n",
    "\n",
    "enddate = pd.to_datetime(startdate) + pd.DateOffset(days=sol)\n",
    "print(\"End of the Infection: \" + str(enddate))\n",
    "\n",
    "pred_x = list(range(max(Day),sol))\n",
    "pred_x\n",
    "\n",
    "Pred = [LogisticModel(i,v,t,c) for i in Day+pred_x]\n",
    "\n",
    "plt.plot(Day+pred_x, Pred, label=\"Model Prediction\")\n",
    "plt.title(\"Peru Logistic Model\")\n",
    "plt.xlabel(\"Days since Outbreak\"); plt.ylabel(\"Number of Cases\")\n",
    "plt.legend()"
   ]
  },
  {
   "cell_type": "code",
   "execution_count": 87,
   "metadata": {},
   "outputs": [
    {
     "data": {
      "text/plain": [
       "[77708, 8880, 237326, 105431, 62576, 1038, 42448, 5843, 2667, 812]"
      ]
     },
     "execution_count": 87,
     "metadata": {},
     "output_type": "execute_result"
    }
   ],
   "source": [
    "peakinf"
   ]
  },
  {
   "cell_type": "code",
   "execution_count": null,
   "metadata": {
    "scrolled": true
   },
   "outputs": [],
   "source": [
    "data = pd.DataFrame({\"PeakInfections\": peakinf})\n",
    "country = [\"China\", \"South Korea\", \"United States\", \"Italy\", \"United Kingdom\", \"New Zealand\", \"Iran\", \"Australia\", \"India\", \"Peru\"]\n",
    "cont = pd.DataFrame({\"Country\": country})\n",
    "data = pd.concat([cont,data], axis=1, sort = False)\n",
    "data=data.sort_values(['Country'])\n",
    "data=data.reset_index(drop=True)\n",
    "data"
   ]
  },
  {
   "cell_type": "code",
   "execution_count": 117,
   "metadata": {},
   "outputs": [],
   "source": [
    "df3 = pd.read_csv(r'C:\\Users\\austi\\Documents\\GitHub\\COMP5360Project\\project_files\\csv_files\\CLEAN_WorldHealthIndex.csv')\n",
    "df4 = pd.read_csv(r'C:\\Users\\austi\\Documents\\GitHub\\COMP5360Project\\project_files\\csv_files\\population_and_density_by_country.csv')"
   ]
  },
  {
   "cell_type": "code",
   "execution_count": 118,
   "metadata": {},
   "outputs": [
    {
     "data": {
      "text/html": [
       "<div>\n",
       "<style scoped>\n",
       "    .dataframe tbody tr th:only-of-type {\n",
       "        vertical-align: middle;\n",
       "    }\n",
       "\n",
       "    .dataframe tbody tr th {\n",
       "        vertical-align: top;\n",
       "    }\n",
       "\n",
       "    .dataframe thead th {\n",
       "        text-align: right;\n",
       "    }\n",
       "</style>\n",
       "<table border=\"1\" class=\"dataframe\">\n",
       "  <thead>\n",
       "    <tr style=\"text-align: right;\">\n",
       "      <th></th>\n",
       "      <th>Country</th>\n",
       "      <th>PeakInfections</th>\n",
       "      <th>WHOIndex</th>\n",
       "      <th>PopulationDensity</th>\n",
       "      <th>population</th>\n",
       "    </tr>\n",
       "  </thead>\n",
       "  <tbody>\n",
       "    <tr>\n",
       "      <th>0</th>\n",
       "      <td>Australia</td>\n",
       "      <td>5843</td>\n",
       "      <td>0.876</td>\n",
       "      <td>3.2765</td>\n",
       "      <td>25203.198</td>\n",
       "    </tr>\n",
       "    <tr>\n",
       "      <th>1</th>\n",
       "      <td>China</td>\n",
       "      <td>77708</td>\n",
       "      <td>0.485</td>\n",
       "      <td>147.7068</td>\n",
       "      <td>1433783.686</td>\n",
       "    </tr>\n",
       "    <tr>\n",
       "      <th>2</th>\n",
       "      <td>India</td>\n",
       "      <td>2667</td>\n",
       "      <td>0.617</td>\n",
       "      <td>415.6290</td>\n",
       "      <td>1366417.754</td>\n",
       "    </tr>\n",
       "    <tr>\n",
       "      <th>3</th>\n",
       "      <td>Iran</td>\n",
       "      <td>42448</td>\n",
       "      <td>0.659</td>\n",
       "      <td>50.3059</td>\n",
       "      <td>82913.906</td>\n",
       "    </tr>\n",
       "    <tr>\n",
       "      <th>4</th>\n",
       "      <td>Italy</td>\n",
       "      <td>105431</td>\n",
       "      <td>0.991</td>\n",
       "      <td>200.9387</td>\n",
       "      <td>60550.075</td>\n",
       "    </tr>\n",
       "    <tr>\n",
       "      <th>5</th>\n",
       "      <td>New Zealand</td>\n",
       "      <td>1038</td>\n",
       "      <td>0.827</td>\n",
       "      <td>17.6845</td>\n",
       "      <td>4783.063</td>\n",
       "    </tr>\n",
       "    <tr>\n",
       "      <th>6</th>\n",
       "      <td>Peru</td>\n",
       "      <td>812</td>\n",
       "      <td>0.547</td>\n",
       "      <td>25.2957</td>\n",
       "      <td>32510.453</td>\n",
       "    </tr>\n",
       "    <tr>\n",
       "      <th>7</th>\n",
       "      <td>South Korea</td>\n",
       "      <td>8880</td>\n",
       "      <td>0.759</td>\n",
       "      <td>511.1796</td>\n",
       "      <td>51225.308</td>\n",
       "    </tr>\n",
       "    <tr>\n",
       "      <th>8</th>\n",
       "      <td>United Kingdom</td>\n",
       "      <td>62576</td>\n",
       "      <td>0.925</td>\n",
       "      <td>278.0164</td>\n",
       "      <td>67530.172</td>\n",
       "    </tr>\n",
       "    <tr>\n",
       "      <th>9</th>\n",
       "      <td>United States</td>\n",
       "      <td>237326</td>\n",
       "      <td>0.838</td>\n",
       "      <td>35.1092</td>\n",
       "      <td>329064.917</td>\n",
       "    </tr>\n",
       "  </tbody>\n",
       "</table>\n",
       "</div>"
      ],
      "text/plain": [
       "          Country  PeakInfections  WHOIndex  PopulationDensity   population\n",
       "0       Australia            5843     0.876             3.2765    25203.198\n",
       "1           China           77708     0.485           147.7068  1433783.686\n",
       "2           India            2667     0.617           415.6290  1366417.754\n",
       "3            Iran           42448     0.659            50.3059    82913.906\n",
       "4           Italy          105431     0.991           200.9387    60550.075\n",
       "5     New Zealand            1038     0.827            17.6845     4783.063\n",
       "6            Peru             812     0.547            25.2957    32510.453\n",
       "7     South Korea            8880     0.759           511.1796    51225.308\n",
       "8  United Kingdom           62576     0.925           278.0164    67530.172\n",
       "9   United States          237326     0.838            35.1092   329064.917"
      ]
     },
     "execution_count": 118,
     "metadata": {},
     "output_type": "execute_result"
    }
   ],
   "source": [
    "\n",
    "countries = ['UnitedStatesofAmerica','Italy', 'China','UnitedKingdom','Iran,IslamicRepublicof',  'RepublicofKorea',   'Australia' , 'India','NewZealand', 'Peru']\n",
    "countries2 = ['United States','Italy', 'China','United Kingdom','Iran',  'South Korea',   'Australia' , 'India','New Zealand', 'Peru']\n",
    "df3 = df3.loc[df3['Member State'].isin(countries)]\n",
    "df4 = df4.loc[df4['name'].isin(countries2)]\n",
    "df3 = df3.sort_values(by=['Member State'])\n",
    "df4 = df4.sort_values(by=['name'])\n",
    "indexes = list(df3['Index'].values)\n",
    "pop_density= list(df4[\"Density\"].values)\n",
    "population=list(df4['pop2019'].values)\n",
    "index = pd.DataFrame({\"WHOIndex\": indexes})\n",
    "pop_density = pd.DataFrame({\"PopulationDensity\": pop_density,'population':population})\n",
    "data = pd.concat([data,index], axis=1, sort = False)\n",
    "data = pd.concat([data,pop_density], axis=1, sort = False)\n",
    "data"
   ]
  },
  {
   "cell_type": "code",
   "execution_count": 119,
   "metadata": {},
   "outputs": [
    {
     "data": {
      "text/plain": [
       "([<matplotlib.axis.YTick at 0x282df429cc8>,\n",
       "  <matplotlib.axis.YTick at 0x282db3d7508>,\n",
       "  <matplotlib.axis.YTick at 0x282df443108>,\n",
       "  <matplotlib.axis.YTick at 0x282df4bf488>],\n",
       " <a list of 4 Text yticklabel objects>)"
      ]
     },
     "execution_count": 119,
     "metadata": {},
     "output_type": "execute_result"
    },
    {
     "data": {
      "image/png": "[encoded data removed]",
      "text/plain": [
       "<Figure size 640x480 with 2 Axes>"
      ]
     },
     "metadata": {},
     "output_type": "display_data"
    }
   ],
   "source": [
    "correlation= data.corr()\n",
    "plt.style.use('default')\n",
    "Global_heatmap=plt.pcolor(correlation,vmin=-1,vmax=1,cmap=plt.cm.Reds)\n",
    "plt.colorbar(Global_heatmap)\n",
    "plt.xticks((range(4)),['Peak Infections','WHO Index', 'Population Dens.','population'])\n",
    "plt.yticks((range(4)),['Peak Infections','WHO Index', 'Population Dens.','population'])           "
   ]
  },
  {
   "cell_type": "code",
   "execution_count": 104,
   "metadata": {},
   "outputs": [
    {
     "data": {
      "text/plain": [
       "<seaborn.axisgrid.PairGrid at 0x282d4ba8ec8>"
      ]
     },
     "execution_count": 104,
     "metadata": {},
     "output_type": "execute_result"
    },
    {
     "data": {
      "image/png": "[encoded data removed]",
      "text/plain": [
       "<Figure size 1000x1000 with 20 Axes>"
      ]
     },
     "metadata": {},
     "output_type": "display_data"
    }
   ],
   "source": [
    "import seaborn as sns\n",
    "sns.set()\n",
    "sns.pairplot(data)#, hue=\"Language\");"
   ]
  },
  {
   "cell_type": "code",
   "execution_count": 126,
   "metadata": {},
   "outputs": [
    {
     "data": {
      "text/html": [
       "<table class=\"simpletable\">\n",
       "<caption>OLS Regression Results</caption>\n",
       "<tr>\n",
       "  <th>Dep. Variable:</th>     <td>PeakInfections</td>  <th>  R-squared:         </th> <td>   0.162</td>\n",
       "</tr>\n",
       "<tr>\n",
       "  <th>Model:</th>                   <td>OLS</td>       <th>  Adj. R-squared:    </th> <td>  -0.077</td>\n",
       "</tr>\n",
       "<tr>\n",
       "  <th>Method:</th>             <td>Least Squares</td>  <th>  F-statistic:       </th> <td>  0.6766</td>\n",
       "</tr>\n",
       "<tr>\n",
       "  <th>Date:</th>             <td>Sun, 29 Mar 2020</td> <th>  Prob (F-statistic):</th>  <td> 0.539</td> \n",
       "</tr>\n",
       "<tr>\n",
       "  <th>Time:</th>                 <td>21:00:45</td>     <th>  Log-Likelihood:    </th> <td> -124.93</td>\n",
       "</tr>\n",
       "<tr>\n",
       "  <th>No. Observations:</th>      <td>    10</td>      <th>  AIC:               </th> <td>   255.9</td>\n",
       "</tr>\n",
       "<tr>\n",
       "  <th>Df Residuals:</th>          <td>     7</td>      <th>  BIC:               </th> <td>   256.8</td>\n",
       "</tr>\n",
       "<tr>\n",
       "  <th>Df Model:</th>              <td>     2</td>      <th>                     </th>     <td> </td>   \n",
       "</tr>\n",
       "<tr>\n",
       "  <th>Covariance Type:</th>      <td>nonrobust</td>    <th>                     </th>     <td> </td>   \n",
       "</tr>\n",
       "</table>\n",
       "<table class=\"simpletable\">\n",
       "<tr>\n",
       "       <td></td>         <th>coef</th>     <th>std err</th>      <th>t</th>      <th>P>|t|</th>  <th>[0.025</th>    <th>0.975]</th>  \n",
       "</tr>\n",
       "<tr>\n",
       "  <th>Intercept</th>  <td>-1.296e+05</td> <td>  1.6e+05</td> <td>   -0.809</td> <td> 0.445</td> <td>-5.09e+05</td> <td> 2.49e+05</td>\n",
       "</tr>\n",
       "<tr>\n",
       "  <th>WHOIndex</th>   <td> 2.228e+05</td> <td> 1.93e+05</td> <td>    1.153</td> <td> 0.287</td> <td>-2.34e+05</td> <td> 6.79e+05</td>\n",
       "</tr>\n",
       "<tr>\n",
       "  <th>population</th> <td>    0.0478</td> <td>    0.058</td> <td>    0.828</td> <td> 0.435</td> <td>   -0.089</td> <td>    0.184</td>\n",
       "</tr>\n",
       "</table>\n",
       "<table class=\"simpletable\">\n",
       "<tr>\n",
       "  <th>Omnibus:</th>       <td> 9.832</td> <th>  Durbin-Watson:     </th> <td>   1.682</td>\n",
       "</tr>\n",
       "<tr>\n",
       "  <th>Prob(Omnibus):</th> <td> 0.007</td> <th>  Jarque-Bera (JB):  </th> <td>   4.178</td>\n",
       "</tr>\n",
       "<tr>\n",
       "  <th>Skew:</th>          <td> 1.389</td> <th>  Prob(JB):          </th> <td>   0.124</td>\n",
       "</tr>\n",
       "<tr>\n",
       "  <th>Kurtosis:</th>      <td> 4.522</td> <th>  Cond. No.          </th> <td>6.53e+06</td>\n",
       "</tr>\n",
       "</table><br/><br/>Warnings:<br/>[1] Standard Errors assume that the covariance matrix of the errors is correctly specified.<br/>[2] The condition number is large, 6.53e+06. This might indicate that there are<br/>strong multicollinearity or other numerical problems."
      ],
      "text/plain": [
       "<class 'statsmodels.iolib.summary.Summary'>\n",
       "\"\"\"\n",
       "                            OLS Regression Results                            \n",
       "==============================================================================\n",
       "Dep. Variable:         PeakInfections   R-squared:                       0.162\n",
       "Model:                            OLS   Adj. R-squared:                 -0.077\n",
       "Method:                 Least Squares   F-statistic:                    0.6766\n",
       "Date:                Sun, 29 Mar 2020   Prob (F-statistic):              0.539\n",
       "Time:                        21:00:45   Log-Likelihood:                -124.93\n",
       "No. Observations:                  10   AIC:                             255.9\n",
       "Df Residuals:                       7   BIC:                             256.8\n",
       "Df Model:                           2                                         \n",
       "Covariance Type:            nonrobust                                         \n",
       "==============================================================================\n",
       "                 coef    std err          t      P>|t|      [0.025      0.975]\n",
       "------------------------------------------------------------------------------\n",
       "Intercept  -1.296e+05    1.6e+05     -0.809      0.445   -5.09e+05    2.49e+05\n",
       "WHOIndex    2.228e+05   1.93e+05      1.153      0.287   -2.34e+05    6.79e+05\n",
       "population     0.0478      0.058      0.828      0.435      -0.089       0.184\n",
       "==============================================================================\n",
       "Omnibus:                        9.832   Durbin-Watson:                   1.682\n",
       "Prob(Omnibus):                  0.007   Jarque-Bera (JB):                4.178\n",
       "Skew:                           1.389   Prob(JB):                        0.124\n",
       "Kurtosis:                       4.522   Cond. No.                     6.53e+06\n",
       "==============================================================================\n",
       "\n",
       "Warnings:\n",
       "[1] Standard Errors assume that the covariance matrix of the errors is correctly specified.\n",
       "[2] The condition number is large, 6.53e+06. This might indicate that there are\n",
       "strong multicollinearity or other numerical problems.\n",
       "\"\"\""
      ]
     },
     "execution_count": 126,
     "metadata": {},
     "output_type": "execute_result"
    }
   ],
   "source": [
    "import statsmodels.formula.api as sm\n",
    "peak_infections_linear_regression = sm.ols(formula=\"PeakInfections~ WHOIndex+population\", data=data).fit()\n",
    "peak_infections_linear_regression.summary()"
   ]
  },
  {
   "cell_type": "code",
   "execution_count": 28,
   "metadata": {},
   "outputs": [],
   "source": [
    "#import numpy as np\n",
    "#def GompertzModel(x,a,b,c):\n",
    "#    return a*(np.exp(b*(np.exp(c*x))))\n",
    "#\n",
    "#from scipy.optimize import curve_fit\n",
    "#from scipy.optimize import fsolve\n",
    "#import matplotlib.pyplot as plt\n",
    "#\n",
    "#Day = numday\n",
    "#Cases = list(ChinaCases.iloc[:,1])\n",
    "#fit2 = curve_fit(GompertzModel,Day,Cases, p0=[77000, -20, 2],)\n",
    "#\n",
    "#params = fit2[0]\n",
    "#\n",
    "#a = params[0]\n",
    "#b = params[1]\n",
    "#c = params[2]\n",
    "#\n",
    "#print(a)\n",
    "#print(b)\n",
    "#print(c)\n",
    "##Pred = LogisticModel(Day, *params)\n",
    "##plt.plot(Day, Pred)\n",
    "##plt.plot(Day, Cases)"
   ]
  }
 ],
 "metadata": {
  "kernelspec": {
   "display_name": "Python 3",
   "language": "python",
   "name": "python3"
  },
  "language_info": {
   "codemirror_mode": {
    "name": "ipython",
    "version": 3
   },
   "file_extension": ".py",
   "mimetype": "text/x-python",
   "name": "python",
   "nbconvert_exporter": "python",
   "pygments_lexer": "ipython3",
   "version": "3.7.5"
  }
 },
 "nbformat": 4,
 "nbformat_minor": 2
}
