{
 "cells": [
  {
   "cell_type": "code",
   "execution_count": 1,
   "metadata": {},
   "outputs": [],
   "source": [
    "# imports and setup \n",
    "\n",
    "import pandas as pd\n",
    "import numpy as np\n",
    "\n",
    "from sklearn.cluster import KMeans, AgglomerativeClustering\n",
    "\n",
    "from sklearn import tree, svm, metrics\n",
    "from sklearn.neighbors import KNeighborsClassifier\n",
    "from sklearn.model_selection import train_test_split, cross_val_predict, cross_val_score, KFold\n",
    "from sklearn.datasets import load_digits\n",
    "from sklearn.preprocessing import scale\n",
    "from sklearn.datasets import fetch_20newsgroups\n",
    "from sklearn.metrics import accuracy_score\n",
    "from sklearn.feature_extraction.text import TfidfVectorizer\n",
    "from sklearn.feature_extraction.text import CountVectorizer\n",
    "from sklearn.naive_bayes import MultinomialNB\n",
    "\n",
    "from sklearn.cluster import DBSCAN\n",
    "\n",
    "from sklearn.decomposition import PCA \n",
    "\n",
    "import nltk\n",
    "from nltk.corpus import stopwords\n",
    "\n",
    "import re\n",
    "\n",
    "import seaborn as sns\n",
    "\n",
    "import matplotlib.pyplot as plt\n",
    "%matplotlib inline\n",
    "plt.rcParams['figure.figsize'] = (10, 10)\n",
    "plt.style.use('ggplot')"
   ]
  },
  {
   "cell_type": "code",
   "execution_count": null,
   "metadata": {},
   "outputs": [],
   "source": [
    "df = pd.read_csv(\".csv\")\n",
    "df\n",
    "#df = df.rename(columns = {\"Unnamed: 0\": \"States\"})"
   ]
  },
  {
   "cell_type": "code",
   "execution_count": null,
   "metadata": {},
   "outputs": [],
   "source": []
  },
  {
   "cell_type": "code",
   "execution_count": null,
   "metadata": {},
   "outputs": [],
   "source": []
  },
  {
   "cell_type": "code",
   "execution_count": null,
   "metadata": {},
   "outputs": [],
   "source": []
  },
  {
   "cell_type": "code",
   "execution_count": null,
   "metadata": {},
   "outputs": [],
   "source": [
    "from matplotlib import cm\n",
    "df2 = df\n",
    "df2 = df.set_index('States')\n",
    "states = df.pop(\"States\")"
   ]
  },
  {
   "cell_type": "code",
   "execution_count": null,
   "metadata": {},
   "outputs": [],
   "source": [
    "g = sns.clustermap(df2, method=\"average\", metric=\"euclidean\", cmap=\"Blues\", standard_scale = 1)"
   ]
  },
  {
   "cell_type": "code",
   "execution_count": null,
   "metadata": {},
   "outputs": [],
   "source": [
    "viridis = cm.get_cmap('viridis', 50)\n",
    "color_arr = viridis(np.linspace(0, 1, 50))\n",
    "\n",
    "# the color for the labels\n",
    "lut = dict(zip(states.unique(), color_arr))\n",
    "\n",
    "row_colors = states.map(lut)\n",
    "\n",
    "# for method, try \"single\", \"average\", \"ward\"\n",
    "# for method try \"correlation\", \"euclidean\", \"cityblock\"\n",
    "g = sns.clustermap(df, method=\"average\", metric=\"euclidean\", row_colors=row_colors, cmap=\"Blues\", standard_scale = 1)"
   ]
  },
  {
   "cell_type": "code",
   "execution_count": null,
   "metadata": {},
   "outputs": [],
   "source": [
    "scaled = scale(df)\n",
    "\n",
    "pca_model = PCA()\n",
    "X_PCA = pca_model.fit_transform(scaled)\n",
    "\n",
    "# create a new pandas dataframe \n",
    "df_pca = pd.DataFrame(X_PCA, columns=['PC1', 'PC2', 'PC3', 'PC4'])"
   ]
  },
  {
   "cell_type": "code",
   "execution_count": null,
   "metadata": {},
   "outputs": [],
   "source": [
    "fig,ax1 = plt.subplots()\n",
    "\n",
    "ax1.set_xlim(X_PCA[:,0].min()-1,X_PCA[:,0].max()+1)\n",
    "ax1.set_ylim(X_PCA[:,1].min()-1,X_PCA[:,1].max()+1)\n",
    "\n",
    "# Plot Principal Components 1 and 2\n",
    "for i,name in enumerate(states.values):\n",
    "    ax1.annotate(states[i], (X_PCA[i,0], X_PCA[i,1]), ha='center',fontsize=5)\n",
    "\n",
    "ax1.set_xlabel('First Principal Component')\n",
    "ax1.set_ylabel('Second Principal Component')\n",
    "plt.show()"
   ]
  },
  {
   "cell_type": "code",
   "execution_count": null,
   "metadata": {},
   "outputs": [],
   "source": [
    "# Variance ratio of the four principal components\n",
    "var_ratio = pca_model.explained_variance_ratio_\n",
    "print(var_ratio)\n",
    "\n",
    "plt.plot([1,2,3,4], var_ratio, '-o')\n",
    "\n",
    "plt.ylabel('Proportion of Variance Explained')\n",
    "plt.xlabel('Principal Component')\n",
    "plt.xlim(0,4.25)\n",
    "plt.ylim(0,1.05)\n",
    "plt.xticks([1,2,3,4])\n",
    "plt.show()"
   ]
  },
  {
   "cell_type": "code",
   "execution_count": null,
   "metadata": {},
   "outputs": [],
   "source": [
    "fig,ax1 = plt.subplots()\n",
    "\n",
    "scaled = scale(df)\n",
    "\n",
    "y_pred = KMeans(n_clusters=4, n_init=1, init='random', max_iter=5).fit_predict(scaled)\n",
    "plt.scatter(scaled[:, 0], scaled[:, 1], c=y_pred, cmap = 'spring');\n",
    "\n",
    "# Plot Principal Components 1 and 2\n",
    "for i,name in enumerate(states.values):\n",
    "    ax1.annotate(states[i], (scaled[i, 0], scaled[i, 1]), ha='center',fontsize=5)\n",
    "\n",
    "plt.show()"
   ]
  },
  {
   "cell_type": "code",
   "execution_count": null,
   "metadata": {},
   "outputs": [],
   "source": [
    "ks = range(1,15)\n",
    "scores = []\n",
    "\n",
    "for k in ks:\n",
    "    model = KMeans(n_clusters=k)\n",
    "    model.fit_predict(df)\n",
    "    scores.append(-model.score(df))\n",
    "\n",
    "plt.plot(ks, scores)\n",
    "plt.ylabel('total intra-cluster distance')\n",
    "plt.xlabel('k')\n",
    "plt.show()"
   ]
  },
  {
   "cell_type": "code",
   "execution_count": null,
   "metadata": {},
   "outputs": [],
   "source": [
    "fig,ax1 = plt.subplots()\n",
    "\n",
    "scaled = scale(df)\n",
    "\n",
    "y_pred = KMeans(n_clusters=4, n_init=1, init='random', max_iter=5).fit_predict(scaled)\n",
    "plt.scatter(scaled[:, 0], scaled[:, 1], c=y_pred, cmap = 'spring');\n",
    "\n",
    "# Plot Principal Components 1 and 2\n",
    "for i,name in enumerate(states.values):\n",
    "    ax1.annotate(states[i], (scaled[i, 0], scaled[i, 1]), ha='center',fontsize=5)\n",
    "\n",
    "plt.show()"
   ]
  },
  {
   "cell_type": "code",
   "execution_count": null,
   "metadata": {},
   "outputs": [],
   "source": [
    "scaled = scale(df)\n",
    "\n",
    "pca_model = PCA()\n",
    "X_PCA = pca_model.fit_transform(scaled)\n",
    "\n",
    "# create a new pandas dataframe \n",
    "df_pca = pd.DataFrame(X_PCA, columns=['PC1', 'PC2', 'PC3', 'PC4'])\n",
    "df_pca\n",
    "\n",
    "fig,ax1 = plt.subplots()\n",
    "\n",
    "ax1.set_xlim(X_PCA[:,0].min()-1,X_PCA[:,0].max()+1)\n",
    "ax1.set_ylim(X_PCA[:,1].min()-1,X_PCA[:,1].max()+1)\n",
    "\n",
    "# Plot Principal Components 1 and 2\n",
    "for i,name in enumerate(states.values):\n",
    "    ax1.annotate(states[i], (X_PCA[i,0], X_PCA[i,1]), ha='center',fontsize=5)\n",
    "\n",
    "ax1.set_xlabel('First Principal Component')\n",
    "ax1.set_ylabel('Second Principal Component')\n",
    "plt.show()"
   ]
  },
  {
   "cell_type": "code",
   "execution_count": null,
   "metadata": {},
   "outputs": [],
   "source": [
    "scaled = scale(df)\n",
    "\n",
    "ax1.set_xlim(X_PCA[:,0].min()-1,X_PCA[:,0].max()+1)\n",
    "ax1.set_ylim(X_PCA[:,1].min()-1,X_PCA[:,1].max()+1)\n",
    "\n",
    "pca_model = PCA()\n",
    "X_PCA = pca_model.fit_transform(scaled)\n",
    "\n",
    "# create a new pandas dataframe \n",
    "df_pca = pd.DataFrame(X_PCA, columns=['PC1', 'PC2', 'PC3', 'PC4'])\n",
    "\n",
    "fig,ax1 = plt.subplots()\n",
    "\n",
    "y_pred = KMeans(n_clusters=4, n_init=1, init='random', max_iter=5).fit_predict(df_pca)\n",
    "plt.scatter(df_pca.iloc[:, 0], df_pca.iloc[:, 1], c=y_pred, cmap = 'spring');\n",
    "\n",
    "# Plot Principal Components 1 and 2\n",
    "for i,name in enumerate(states.values):\n",
    "    ax1.annotate(states[i], (X_PCA[i,0], X_PCA[i,1]), ha='center',fontsize=5)\n",
    "\n",
    "ax1.set_xlabel('First Principal Component')\n",
    "ax1.set_ylabel('Second Principal Component')\n",
    "plt.show()"
   ]
  },
  {
   "cell_type": "code",
   "execution_count": null,
   "metadata": {},
   "outputs": [],
   "source": [
    "from scipy.cluster import hierarchy"
   ]
  },
  {
   "cell_type": "code",
   "execution_count": null,
   "metadata": {},
   "outputs": [],
   "source": [
    "Z = hierarchy.linkage(df, 'ward') # generate the linkage array\n",
    "\n",
    "fig,ax1 = plt.subplots()\n",
    "\n",
    "y_pred = hierarchy.fcluster(Z=Z, t=4, criterion='maxclust')\n",
    "plt.scatter(df.iloc[:, 0], df.iloc[:, 1], c=y_pred,  marker=\"o\", cmap='spring'); \n",
    "    \n",
    "for i,name in enumerate(states.values):\n",
    "    ax1.annotate(states[i], (df.iloc[i, 0], df.iloc[i, 1]), ha='center',fontsize=5)\n",
    "\n",
    "plt.show()"
   ]
  },
  {
   "cell_type": "code",
   "execution_count": null,
   "metadata": {},
   "outputs": [],
   "source": [
    "scaled = scale(df)\n",
    "\n",
    "pca_model = PCA()\n",
    "X_PCA = pca_model.fit_transform(scaled)\n",
    "\n",
    "# create a new pandas dataframe \n",
    "df_pca = pd.DataFrame(X_PCA, columns=['PC1', 'PC2', 'PC3', 'PC4'])\n",
    "df_pca\n",
    "\n",
    "fig,ax1 = plt.subplots()\n",
    "\n",
    "ax1.set_xlim(X_PCA[:,0].min()-1,X_PCA[:,0].max()+1)\n",
    "ax1.set_ylim(X_PCA[:,1].min()-1,X_PCA[:,1].max()+1)\n",
    "\n",
    "# Plot Principal Components 1 and 2\n",
    "for i,name in enumerate(states.values):\n",
    "    ax1.annotate(states[i], (X_PCA[i,0], X_PCA[i,1]), ha='center',fontsize=5)\n",
    "\n",
    "ax1.set_xlabel('First Principal Component')\n",
    "ax1.set_ylabel('Second Principal Component')\n",
    "plt.show()"
   ]
  },
  {
   "cell_type": "code",
   "execution_count": null,
   "metadata": {},
   "outputs": [],
   "source": [
    "scaled = scale(df)\n",
    "\n",
    "pca_model = PCA()\n",
    "X_PCA = pca_model.fit_transform(scaled)\n",
    "\n",
    "# create a new pandas dataframe \n",
    "df_pca = pd.DataFrame(X_PCA, columns=['PC1', 'PC2', 'PC3', 'PC4'])\n",
    "df_pca\n",
    "\n",
    "Z = hierarchy.linkage(df_pca, 'ward') \n",
    "\n",
    "fig,ax1 = plt.subplots()\n",
    "\n",
    "ax1.set_xlim(X_PCA[:,0].min()-1,X_PCA[:,0].max()+1)\n",
    "ax1.set_ylim(X_PCA[:,1].min()-1,X_PCA[:,1].max()+1)\n",
    "\n",
    "y_pred = hierarchy.fcluster(Z=Z, t=4, criterion='maxclust')\n",
    "plt.scatter(df_pca.iloc[:, 0], df_pca.iloc[:, 1], c=y_pred,  marker=\"o\", cmap='spring'); \n",
    "\n",
    "# Plot Principal Components 1 and 2\n",
    "for i,name in enumerate(states.values):\n",
    "    ax1.annotate(states[i], (X_PCA[i,0], X_PCA[i,1]), ha='center',fontsize=5)\n",
    "\n",
    "ax1.set_xlabel('First Principal Component')\n",
    "ax1.set_ylabel('Second Principal Component')\n",
    "plt.show()"
   ]
  },
  {
   "cell_type": "code",
   "execution_count": null,
   "metadata": {},
   "outputs": [],
   "source": [
    "db_model = DBSCAN(eps=20, min_samples=4)\n",
    "db_model.fit(df)\n",
    "y_pred = db_model.fit_predict(df)\n",
    "\n",
    "fig,ax1 = plt.subplots()\n",
    "\n",
    "plt.scatter(df.iloc[:, 0], df.iloc[:, 1], c=y_pred,  marker=\"o\", cmap= 'spring'); \n",
    "\n",
    "labels = db_model.labels_\n",
    "\n",
    "n_clusters_ = len(set(labels)) - (1 if -1 in labels else 0)\n",
    "n_noise_ = list(labels).count(-1)\n",
    "\n",
    "print('Estimated number of clusters: %d' % n_clusters_)\n",
    "print('Estimated number of noise points: %d' % n_noise_)\n",
    "\n",
    "for i,name in enumerate(states.values):\n",
    "    ax1.annotate(states[i], (df.iloc[i,0], df.iloc[i,1]), ha='center',fontsize=5)\n",
    "\n",
    "plt.show()"
   ]
  },
  {
   "cell_type": "code",
   "execution_count": null,
   "metadata": {},
   "outputs": [],
   "source": [
    "scaled = scale(df)\n",
    "\n",
    "pca_model = PCA()\n",
    "X_PCA = pca_model.fit_transform(scaled)\n",
    "\n",
    "# create a new pandas dataframe \n",
    "df_pca = pd.DataFrame(X_PCA, columns=['PC1', 'PC2', 'PC3', 'PC4'])\n",
    "df_pca\n",
    "\n",
    "fig,ax1 = plt.subplots()\n",
    "\n",
    "ax1.set_xlim(X_PCA[:,0].min()-1,X_PCA[:,0].max()+1)\n",
    "ax1.set_ylim(X_PCA[:,1].min()-1,X_PCA[:,1].max()+1)\n",
    "\n",
    "# Plot Principal Components 1 and 2\n",
    "for i,name in enumerate(states.values):\n",
    "    ax1.annotate(states[i], (X_PCA[i,0], X_PCA[i,1]), ha='center',fontsize=5)\n",
    "\n",
    "ax1.set_xlabel('First Principal Component')\n",
    "ax1.set_ylabel('Second Principal Component')\n",
    "plt.show()"
   ]
  },
  {
   "cell_type": "code",
   "execution_count": null,
   "metadata": {},
   "outputs": [],
   "source": [
    "scaled = scale(df)\n",
    "\n",
    "pca_model = PCA()\n",
    "X_PCA = pca_model.fit_transform(scaled)\n",
    "\n",
    "# create a new pandas dataframe \n",
    "df_pca = pd.DataFrame(X_PCA, columns=['PC1', 'PC2', 'PC3', 'PC4'])\n",
    "\n",
    "db_model = DBSCAN(eps=1, min_samples=2)\n",
    "db_model.fit(df_pca)\n",
    "y_pred = db_model.fit_predict(df_pca)\n",
    "\n",
    "fig,ax1 = plt.subplots()\n",
    "\n",
    "ax1.set_xlim(X_PCA[:,0].min()-1,X_PCA[:,0].max()+1)\n",
    "ax1.set_ylim(X_PCA[:,1].min()-1,X_PCA[:,1].max()+1)\n",
    "\n",
    "plt.scatter(df_pca.iloc[:, 0], df_pca.iloc[:, 1], c=y_pred,  marker=\"o\", cmap= 'spring'); \n",
    "\n",
    "labels = db_model.labels_\n",
    "\n",
    "n_clusters_ = len(set(labels)) - (1 if -1 in labels else 0)\n",
    "n_noise_ = list(labels).count(-1)\n",
    "\n",
    "print('Estimated number of clusters: %d' % n_clusters_)\n",
    "print('Estimated number of noise points: %d' % n_noise_)\n",
    "\n",
    "# Plot Principal Components 1 and 2\n",
    "for i,name in enumerate(states.values):\n",
    "    ax1.annotate(states[i], (X_PCA[i,0], X_PCA[i,1]), ha='center',fontsize=5)\n",
    "\n",
    "ax1.set_xlabel('First Principal Component')\n",
    "ax1.set_ylabel('Second Principal Component')\n",
    "plt.show()"
   ]
  },
  {
   "cell_type": "code",
   "execution_count": null,
   "metadata": {},
   "outputs": [],
   "source": []
  },
  {
   "cell_type": "code",
   "execution_count": null,
   "metadata": {},
   "outputs": [],
   "source": []
  },
  {
   "cell_type": "code",
   "execution_count": null,
   "metadata": {},
   "outputs": [],
   "source": []
  },
  {
   "cell_type": "code",
   "execution_count": null,
   "metadata": {},
   "outputs": [],
   "source": []
  }
 ],
 "metadata": {
  "kernelspec": {
   "display_name": "Python 3",
   "language": "python",
   "name": "python3"
  },
  "language_info": {
   "codemirror_mode": {
    "name": "ipython",
    "version": 3
   },
   "file_extension": ".py",
   "mimetype": "text/x-python",
   "name": "python",
   "nbconvert_exporter": "python",
   "pygments_lexer": "ipython3",
   "version": "3.7.5"
  }
 },
 "nbformat": 4,
 "nbformat_minor": 2
}
