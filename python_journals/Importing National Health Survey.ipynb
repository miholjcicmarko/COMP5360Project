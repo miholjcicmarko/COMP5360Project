{
 "cells": [
  {
   "cell_type": "code",
   "execution_count": 64,
   "metadata": {},
   "outputs": [],
   "source": [
    "import pandas as pd\n",
    "\n",
    "df = pd.read_csv(r'C:\\Users\\austi\\Documents\\GitHub\\COMP5360Project\\project_files\\csv_files\\2020 County Health Rankings Data - v1.csv',skiprows=1)\n",
    "df=df[['State','County','Deaths','Years of Potential Life Lost Rate','Average Number of Physically Unhealthy Days','Average Number of Mentally Unhealthy Days','% Smokers','% Adults with Obesity','Food Environment Index','% Physically Inactive','% With Access to Exercise Opportunities','Chlamydia Rate','% Uninsured','# Primary Care Physicians','Primary Care Physicians Rate','Preventable Hospitalization Rate','% Vaccinated','High School Graduation Rate','% Some College','% Unemployed','% Children in Poverty','Income Ratio','% Single-Parent Households','Social Association Rate','Average Daily PM2.5','% Severe Housing Problems','% Long Commute - Drives Alone']]\n",
    "df.set_index('State')\n",
    "df['County'].fillna(0,inplace=True)\n",
    "\n",
    "statelvl=df.loc[df['County']==0]\n",
    "statelvl=statelvl.drop(['County'],axis=1)\n",
    "\n",
    "#Nan pm2.5 values filled in with this source: http://berkeleyearth.lbl.gov/air-quality/local/United_States_of_America/Hawaii\n",
    "statelvl.loc[statelvl['State']=='Alaska','Average Daily PM2.5']=12\n",
    "statelvl.loc[statelvl['State']=='Hawaii','Average Daily PM2.5']=3.9 \n",
    "#statelvl.dtypes\n",
    "statelvl.to_csv(r'C:\\Users\\austi\\Documents\\GitHub\\COMP5360Project\\project_files\\csv_files\\Nation_HealthSurvey_Variables.csv', index=False)"
   ]
  }
 ],
 "metadata": {
  "kernelspec": {
   "display_name": "Python 3",
   "language": "python",
   "name": "python3"
  },
  "language_info": {
   "codemirror_mode": {
    "name": "ipython",
    "version": 3
   },
   "file_extension": ".py",
   "mimetype": "text/x-python",
   "name": "python",
   "nbconvert_exporter": "python",
   "pygments_lexer": "ipython3",
   "version": "3.7.5"
  }
 },
 "nbformat": 4,
 "nbformat_minor": 2
}
