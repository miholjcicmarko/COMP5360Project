{
 "cells": [
  {
   "cell_type": "markdown",
   "metadata": {},
   "source": [
    "# Basic Info:\n",
    "The Project Title is: A Brief History of Crime\n",
    "Group member 1 \n",
    "name: Austin Hickey\n",
    "e-mail: U1041943@utah.edu\n",
    "UID: U1041943\n",
    "\n",
    "Group member 2\n",
    "name: Spencer Sawas\n",
    "e-mail: spencer.sawas@utah.edu\n",
    "UID: U1065866\n",
    "\n",
    "Group member 3\n",
    "name: Marko Miholjcic\n",
    "e-mail: u0984549@utah.edu\n",
    "UID: u0984549"
   ]
  },
  {
   "cell_type": "markdown",
   "metadata": {},
   "source": [
    "# Background and Motivation\n",
    "Discuss your motivations and reasons for choosing this project, especially any background or research interests that may have influenced your decision.\n",
    "\n",
    "\n",
    "Across the nation, the police strive to make the world a safer place for civilians. In Chicago, for example, 310 shootings occurred in 2019. A majority of the shootings were gang related. Police in Chicago are trained specifically for handling gang violence. Similar training programs exist for other cities across the United states, but quite frequently, these are often large cities with similar types of crime as Chicago. The strategies for combating crime and ensuring public safety have extended beyond responding to phone calls for service. Law enforcement agencies are collecting data on crimes, and crime mapping in order to increase crime prevention, responsivity, and intervention. The motivation for our project is to find ways to improve the police academies, and learn more information about if and how gun ownership, and crime influence political affiliation. \n"
   ]
  },
  {
   "cell_type": "markdown",
   "metadata": {},
   "source": [
    "# Project Objectives\n",
    "\n",
    "Using crime data from the \"FBI Crime Data Explorer API\" and the Department of Justice \"National Crime Victimization Survey API\" we can map the most common types of crime to Cities across America and assess which special types of training might be best suited for city-specific police academies. To go a step further, we can use the crime data and, using the \"ATF Trace Data Report API\", identify if there is any relationship between gun ownership and specific types of crime observed from the mapped data. It must be noted though, street gangs often use ghost guns which are unregistered and not reported to the ATF. Therefore, data from the ATF API may not yield the most precise results.  Finally, we will also use Google's \"Civic Information API\" to identify relationships between a) gun ownership vs political affiliation, b) political affiliation vs most common types of crime, and c) assess whether there are higher rates of gun violence per gun owner density for those living in \"red\" or \"blue\" counties."
   ]
  },
  {
   "cell_type": "markdown",
   "metadata": {},
   "source": [
    "# Data\n"
   ]
  },
  {
   "cell_type": "markdown",
   "metadata": {},
   "source": [
    "Data will be collected from Developer Resources website from the United States Department of Justice. The url for the website is https://www.justice.gov/developer. We plan on collecting data by scraping data from the APIs present on the website.\n",
    "Additionally, data will be collected from the United States Census Bureau. The url for the website is census.gov/data/developers/data-sets.html. We plan on collecting data by scraping data from the APIs present on the website."
   ]
  },
  {
   "cell_type": "markdown",
   "metadata": {},
   "source": [
    "# Ethical considerations\n",
    "\n",
    "Due"
   ]
  },
  {
   "cell_type": "markdown",
   "metadata": {},
   "source": [
    "# Data Processing\n"
   ]
  },
  {
   "cell_type": "markdown",
   "metadata": {},
   "source": [
    "# Exploratory Analysis\n"
   ]
  },
  {
   "cell_type": "markdown",
   "metadata": {},
   "source": [
    "# Analysis Methodology\n"
   ]
  },
  {
   "cell_type": "markdown",
   "metadata": {},
   "source": [
    "# Project Schedule\n"
   ]
  },
  {
   "cell_type": "markdown",
   "metadata": {},
   "source": [
    "Make sure that you plan your work so that you can avoid a big rush right before the final project deadline, and delegate different modules and responsibilities among your team members. Write this in terms of weekly deadlines.\n",
    "\n",
    "\n",
    "Week 1:\n",
    "    -the data must be imported into the jupyter notebook.\n",
    "    -Begin cleaning the data \n",
    "\n",
    "Week 2:\n",
    "    -Spring Break\n",
    "   \n",
    "\n",
    "Week 3:\n",
    "    -Finish cleaning the data\n",
    "    -Begin exploring the data\n",
    "\n",
    "\n",
    "Week 4:\n",
    "    -Finish Exploring the Data\n",
    "    -Begin Analyzing the Data\n",
    "    -Determine the method of creating the video\n",
    "\n",
    "Week 5:\n",
    "    -Complete the analysis of the Data\n",
    "    -Begin creating the video\n",
    "\n",
    "Week 6:\n",
    "    -Finalize the jupyter notebook\n",
    "    -Finish the video \n",
    "\n",
    "Week 7:\n",
    "    -Practice the presentation\n",
    "\n",
    "Week 8:\n",
    "    -Present the presentation"
   ]
  }
 ],
 "metadata": {
  "kernelspec": {
   "display_name": "Python 3",
   "language": "python",
   "name": "python3"
  },
  "language_info": {
   "codemirror_mode": {
    "name": "ipython",
    "version": 3
   },
   "file_extension": ".py",
   "mimetype": "text/x-python",
   "name": "python",
   "nbconvert_exporter": "python",
   "pygments_lexer": "ipython3",
   "version": "3.7.5"
  }
 },
 "nbformat": 4,
 "nbformat_minor": 2
}
