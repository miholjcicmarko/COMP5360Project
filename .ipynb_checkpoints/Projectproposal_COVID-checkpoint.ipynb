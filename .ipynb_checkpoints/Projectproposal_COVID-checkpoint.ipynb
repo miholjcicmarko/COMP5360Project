{
 "cells": [
  {
   "cell_type": "markdown",
   "metadata": {},
   "source": [
    "# Basic Info:\n",
    "The Project Title is: The Epidemiology of COVID-19\n",
    "\n",
    "Group member 1 \n",
    "name: Austin Hickey\n",
    "e-mail: U1041943@utah.edu\n",
    "UID: U1041943\n",
    "\n",
    "Group member 2\n",
    "name: Spencer Sawas\n",
    "e-mail: spencer.sawas@utah.edu\n",
    "UID: U1065866\n",
    "\n",
    "Group member 3\n",
    "name: Marko Miholjcic\n",
    "e-mail: u0984549@utah.edu\n",
    "UID: u0984549"
   ]
  },
  {
   "cell_type": "markdown",
   "metadata": {},
   "source": [
    "# Background and Motivation\n"
   ]
  },
  {
   "cell_type": "markdown",
   "metadata": {},
   "source": [
    "Currently the world is facing a global pandemic with a new virus that has evolved and crossed over to humans. The virus known as COVID-19 affects the respiratory and cardiovascular systems by binding to the Ace-2 receptors. Ace-2 receptors are found widespread through the cardiovascular and respiratory system, for this reason the virus is extremely dangerous for susceptible populations. Currently, 30% of Americans suffer from cardiovascular diseases, 10% diabetus, and 10% asthma; these populations dont even account for those who are immunocompromised or more susceptible for other reasons. \n",
    "The virus causes violent coughing, restricted breathing, inflammation, and cardiovascular hypertension (among other cardiovascular effects). Further, it can cause pneumonia. Combined with the complications caused by the virus, pneumonia is can be fatal; especially if left untreated. \n",
    "Due to how transmissible the virus is, hospitals and healthcare workers across the world have been put to the test. The rapid spread of the virus has caused many hospitals to become overloaded with patients, with limited resources available. \n",
    "\n",
    "To try and curb the spread of the virus, places across the world are temporarily shutting down and countries have been recommended to social quarentine, or have gone into a full lockdown. Ripple effects have been detrimental to the economy. Millions of people have lost their jobs. People are dipping into their savings to pay rent, or worse, they can't pay rent. Some have even speculated an economic recession after the virus passes. \n",
    "\n",
    "This virus shows just how ill equipt the United States and the entire world are for pandemics and biological warfare that may present itself in the future. Hopefully this can be a learning experience for every nation, if nothing else. "
   ]
  },
  {
   "cell_type": "markdown",
   "metadata": {},
   "source": [
    "# Project Objectives"
   ]
  },
  {
   "cell_type": "markdown",
   "metadata": {},
   "source": [
    "Understand the severity of the global pandemic and visualize the effects to come in the near future when it's at its worst in the United States. Using predictive modeling techniques such as logistic regression and classification models, we will identify how long until the number of cases begins to plateau, how many cases there will be when it begins to plateau, and a prediction of the number of deaths a location will experience. \n",
    "\n",
    "We will use the predictive models to create plots to visualize the severity of the virus in the locations analyzed. Further, we will explore which states will be most heavily impacted. A geospatial map will be created to plot the spread of COVID-19 in the United States and identify the hospital beds per 1,000 for each state."
   ]
  },
  {
   "cell_type": "markdown",
   "metadata": {},
   "source": [
    "# Data\n"
   ]
  },
  {
   "cell_type": "markdown",
   "metadata": {},
   "source": [
    "We will be using several sources of data in order to most accurately represent the COVID-19 outbreaks and information relevant to analyzing its effects on each country.\n",
    "\n",
    "For the COVID-19 data we will use multiple APIs to collect the number of cases, recoveries, and deaths over time (since Jan.) for a number of countries: \n",
    "This data is collection of data put together in csv format by John Hopkins Center for Systems Science and Engineering.\n",
    "https://github.com/CSSEGISandData/COVID-19 \n",
    "\n",
    "For our regression model to predict the number of deaths from COVID-19 that a particular country will experience we will be webscraping data from the WHO Healthcare index. A countries healthcare index is a good indicator of how adept their healthcare infrastructure is, and how healthy a country is overall. The WHO healthcare index takes into account myriad of variables to rank every nations healthcare system.\n",
    "https://www.who.int/healthinfo/paper30.pdf (pdf example)\n",
    "As well as a particular countries population and population densities - http://worldpopulationreview.com/\n",
    "\n",
    "Lastly, on a national level we will consider additional variables such as state populations/density and the size of the existing healthcare systems for each state (number of hospital beds per 1,000 people). Further, we will use data that identifies the number of physicians per county for each state. These variables will provide for a more robust classification model to predict the severity of impact the virus will have on every state. \n",
    "https://www.kff.org/other/state-indicator/beds-by-ownership/?currentTimeframe=0&selectedDistributions=statelocal-government&sortModel=%7B%22colId%22:%22Location%22,%22sort%22:%22asc%22%7D\n",
    "\n",
    "https://www.countyhealthrankings.org/explore-health-rankings/rankings-data-documentation"
   ]
  },
  {
   "cell_type": "markdown",
   "metadata": {},
   "source": [
    "# Ethical considerations\n"
   ]
  },
  {
   "cell_type": "markdown",
   "metadata": {},
   "source": [
    "If this were published, and publicly visible; we would not want our project to induce mass hysteria for the states that have been identified to be most severely impacted. It would also be important that our project does not identify a state that is least impacted- and influence them to go against governmental restrictions that were put in place."
   ]
  },
  {
   "cell_type": "markdown",
   "metadata": {},
   "source": [
    "# Data Processing"
   ]
  },
  {
   "cell_type": "markdown",
   "metadata": {},
   "source": []
  },
  {
   "cell_type": "markdown",
   "metadata": {},
   "source": [
    "# Exploratory Analysis"
   ]
  },
  {
   "cell_type": "markdown",
   "metadata": {},
   "source": []
  },
  {
   "cell_type": "markdown",
   "metadata": {},
   "source": [
    "# Analysis Methodology"
   ]
  },
  {
   "cell_type": "markdown",
   "metadata": {},
   "source": []
  },
  {
   "cell_type": "markdown",
   "metadata": {},
   "source": [
    "# Project Schedule\n"
   ]
  },
  {
   "cell_type": "markdown",
   "metadata": {},
   "source": [
    "Week 1:\n",
    "    -the data must be imported into the jupyter notebook.\n",
    "    -Begin cleaning the data \n",
    "    -Participate in peer review\n",
    "\n",
    "Week 2:\n",
    "    -Spring Break\n",
    "   \n",
    "\n",
    "Week 3:\n",
    "    -Finish cleaning the data\n",
    "    -Begin exploring the data\n",
    "\n",
    "\n",
    "Week 4:\n",
    "    -Finish Exploring the Data\n",
    "    -Begin Analyzing the Data\n",
    "    -Determine the method of creating the video\n",
    "\n",
    "Week 5:\n",
    "    -Complete the analysis of the Data\n",
    "    -Begin creating the video\n",
    "\n",
    "Week 6:\n",
    "    -Finalize the jupyter notebook\n",
    "    -Finish the video \n",
    "\n",
    "Week 7:\n",
    "    -Practice the presentation\n",
    "\n",
    "Week 8:\n",
    "    -Present the presentation"
   ]
  }
 ],
 "metadata": {
  "kernelspec": {
   "display_name": "Python 3",
   "language": "python",
   "name": "python3"
  },
  "language_info": {
   "codemirror_mode": {
    "name": "ipython",
    "version": 3
   },
   "file_extension": ".py",
   "mimetype": "text/x-python",
   "name": "python",
   "nbconvert_exporter": "python",
   "pygments_lexer": "ipython3",
   "version": "3.7.4"
  }
 },
 "nbformat": 4,
 "nbformat_minor": 2
}
